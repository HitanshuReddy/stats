{
 "cells": [
  {
   "cell_type": "markdown",
   "id": "5f532cc8-20c8-40ad-bdbe-bcd875c5cb0b",
   "metadata": {},
   "source": [
    "### Year: 2024 \n",
    "### Course: Financial Technology and Analytics\n",
    "### Topic: Application of Statistical and Probabilistic Theory.\n",
    "### Name: Hitanshu Venkata sai Reddy Surap Reddy"
   ]
  },
  {
   "cell_type": "markdown",
   "id": "719dc2cf-12db-4585-a95a-19448632da61",
   "metadata": {
    "tags": []
   },
   "source": [
    "# Abstract "
   ]
  },
  {
   "cell_type": "markdown",
   "id": "7fd68e58-26a9-4c0b-9f59-7c7e2266b333",
   "metadata": {},
   "source": [
    "- In this Final research project we will implement many probabilistic/statistical techniques like combinatorial analysis, axioms, independence, Expectation properties, Limit theorems, Simulations and Dimension reduction methods such as factor analysis.\n",
    "- We will Simulate different distributions for Continuous and Discrete Random Variables. Analyzing and Interpreting output is one of the main goal of this project.\n",
    "- Methodology used are Statistical Analysis, Visualization, Central Limit Theorem Verification, Outlier Analysis and Detection, Probability Calculations, plotting CDF of different distributions.\n",
    "- We also took some real raw data and then applied Bayes Theorem to find out the Probability of a given case and then we did Factor analysis for Dimensionality reduction.\n"
   ]
  },
  {
   "cell_type": "markdown",
   "id": "eb3d8664-0a98-4a04-9c45-78643634653a",
   "metadata": {},
   "source": [
    "# Chapter 1: Introduction"
   ]
  },
  {
   "cell_type": "markdown",
   "id": "d3af7ce3-faf2-4047-80d2-f8f455c46a42",
   "metadata": {},
   "source": [
    "- We first Simulated many random numbers to look at different distributions; then we Verified Central Limit Theorem for every distribution\n",
    "- Simulation of Discrete Random Variables, Simulation of Continuous Random Variables.\n",
    "- Markov Chains is another interesting concept that we looked into. We created a Transition Matrix, Modeled Recurrent Events, Compared the time-averaged behavior to the state probabilites, Sensitivity Analysis. Lastly Visualizations were plotted wherever necessary.\n",
    "- We then took some real data and then produced some research questions to work on. We applied `Bayes theorem` to find answers to our research \n",
    "question. \n",
    "- I then took another dataset where the number of features to be taken care of had to be reduced. I applied `Factor analysis` which is a Dimensionality reductionmethod to reduce the numbers of features of a dataset.\n",
    "- Overall this Project is to APPLY all the important techniques we learnt from Probability Theory. "
   ]
  },
  {
   "cell_type": "markdown",
   "id": "ff070f86-e870-4084-b9d2-344f61f18b73",
   "metadata": {},
   "source": [
    "# Chapter 2: Data Description"
   ]
  },
  {
   "cell_type": "code",
   "execution_count": 1,
   "id": "648fd6ef-9df9-4ff1-84ce-ff7a04e5a994",
   "metadata": {
    "vscode": {
     "languageId": "r"
    }
   },
   "outputs": [],
   "source": [
    "options(warn=-1)"
   ]
  },
  {
   "cell_type": "code",
   "execution_count": 2,
   "id": "aaad6e0e-17d6-478b-a8eb-17f68c90bc28",
   "metadata": {
    "tags": [],
    "vscode": {
     "languageId": "r"
    }
   },
   "outputs": [
    {
     "name": "stderr",
     "output_type": "stream",
     "text": [
      "── \u001b[1mAttaching core tidyverse packages\u001b[22m ──────────────────────── tidyverse 2.0.0 ──\n",
      "\u001b[32m✔\u001b[39m \u001b[34mdplyr    \u001b[39m 1.1.4     \u001b[32m✔\u001b[39m \u001b[34mreadr    \u001b[39m 2.1.4\n",
      "\u001b[32m✔\u001b[39m \u001b[34mforcats  \u001b[39m 1.0.0     \u001b[32m✔\u001b[39m \u001b[34mstringr  \u001b[39m 1.5.1\n",
      "\u001b[32m✔\u001b[39m \u001b[34mggplot2  \u001b[39m 3.5.0     \u001b[32m✔\u001b[39m \u001b[34mtibble   \u001b[39m 3.2.1\n",
      "\u001b[32m✔\u001b[39m \u001b[34mlubridate\u001b[39m 1.9.3     \u001b[32m✔\u001b[39m \u001b[34mtidyr    \u001b[39m 1.3.0\n",
      "\u001b[32m✔\u001b[39m \u001b[34mpurrr    \u001b[39m 1.0.2     \n",
      "── \u001b[1mConflicts\u001b[22m ────────────────────────────────────────── tidyverse_conflicts() ──\n",
      "\u001b[31m✖\u001b[39m \u001b[34mggplot2\u001b[39m::\u001b[32m%+%()\u001b[39m   masks \u001b[34mpsych\u001b[39m::%+%()\n",
      "\u001b[31m✖\u001b[39m \u001b[34mggplot2\u001b[39m::\u001b[32malpha()\u001b[39m masks \u001b[34mpsych\u001b[39m::alpha()\n",
      "\u001b[31m✖\u001b[39m \u001b[34mdplyr\u001b[39m::\u001b[32mfilter()\u001b[39m  masks \u001b[34mstats\u001b[39m::filter()\n",
      "\u001b[31m✖\u001b[39m \u001b[34mdplyr\u001b[39m::\u001b[32mlag()\u001b[39m     masks \u001b[34mstats\u001b[39m::lag()\n",
      "\u001b[36mℹ\u001b[39m Use the conflicted package (\u001b[3m\u001b[34m<http://conflicted.r-lib.org/>\u001b[39m\u001b[23m) to force all conflicts to become errors\n",
      "Loading required package: Matrix\n",
      "\n",
      "\n",
      "Attaching package: 'Matrix'\n",
      "\n",
      "\n",
      "The following objects are masked from 'package:tidyr':\n",
      "\n",
      "    expand, pack, unpack\n",
      "\n",
      "\n",
      "\n",
      "Attaching package: 'expm'\n",
      "\n",
      "\n",
      "The following object is masked from 'package:Matrix':\n",
      "\n",
      "    expm\n",
      "\n",
      "\n",
      "Loading required package: lattice\n",
      "\n",
      "\n",
      "Attaching package: 'caret'\n",
      "\n",
      "\n",
      "The following object is masked from 'package:purrr':\n",
      "\n",
      "    lift\n",
      "\n",
      "\n",
      "corrplot 0.92 loaded\n",
      "\n",
      "\n",
      "Attaching package: 'GPArotation'\n",
      "\n",
      "\n",
      "The following objects are masked from 'package:psych':\n",
      "\n",
      "    equamax, varimin\n",
      "\n",
      "\n",
      "\n",
      "Attaching package: 'nFactors'\n",
      "\n",
      "\n",
      "The following object is masked from 'package:lattice':\n",
      "\n",
      "    parallel\n",
      "\n",
      "\n"
     ]
    }
   ],
   "source": [
    "# Loading Libraries\n",
    "library(psych)\n",
    "library(tidyverse)\n",
    "#install.packages('expm')\n",
    "library(expm)\n",
    "library(RColorBrewer)\n",
    "library(dplyr)\n",
    "library(readxl)\n",
    "library(skimr)\n",
    "library(caret)\n",
    "library(stats)\n",
    "library(corrplot) #plotting correlation matrices.\n",
    "library(ggplot2) # For plotting purposes.\n",
    "library(GPArotation) #methods for factor rotation.\n",
    "library(nFactors) #methods for determining the number of factors.\n",
    "setwd('C:/Users/hsura/OneDrive - stevens.edu/Probability/project/')"
   ]
  },
  {
   "cell_type": "markdown",
   "id": "d2119bf8-753e-49fc-a779-98b8326f893f",
   "metadata": {},
   "source": [
    "- I have taken two datasets for this Project.\n",
    "- The first dataset was chosen on the basis of whether Bayes theorem can be use case for that dataset and the second one was chosen with high features so that we can use the Factor analysis technique that we learnt in Probability."
   ]
  },
  {
   "cell_type": "markdown",
   "id": "9a5404c1-70b2-4b59-8b85-bd255ca58890",
   "metadata": {},
   "source": [
    "- DATA ONE: CHICAGO TAXI DATA\n",
    "- LINK: https://dasl.datadescription.com/datafile/chicago_taxi/\n",
    "- DATA TYPE: CATEGORICAL\n",
    "- DATA EXTRACTED FROM -> Chicago’s Department of Business Affairs and Consumer Protection\n",
    "- DATA DESCRIPTION:\n",
    "      This dataset provides monthly reports of all taxi trips in Chicago, tagged with trip distances, trip durations,fare amounts, and tip amounts. The dataset Chicago taxi holds data on 13,082 taxi trips for which the duration exceeded 1 minute and for which payment was made either in cash or with a credit card. Speed is given in miles per hour averaged over the trip. Beware possible outliers (e.g. speeds of 162 mph)\n",
    "\n",
    "- PROBLEMS: There were possible outliers in the speed column but that can be ignored because our research questions does not require that column."
   ]
  },
  {
   "cell_type": "code",
   "execution_count": 3,
   "id": "a7e20e10-778b-4563-bc9d-d429cc6344cb",
   "metadata": {
    "vscode": {
     "languageId": "r"
    }
   },
   "outputs": [
    {
     "data": {
      "text/html": [
       "<table class=\"dataframe\">\n",
       "<caption>A tibble: 6 × 8</caption>\n",
       "<thead>\n",
       "\t<tr><th scope=col>date</th><th scope=col>daytype</th><th scope=col>seconds</th><th scope=col>miles</th><th scope=col>tips</th><th scope=col>total</th><th scope=col>payment_type</th><th scope=col>speed</th></tr>\n",
       "\t<tr><th scope=col>&lt;dttm&gt;</th><th scope=col>&lt;chr&gt;</th><th scope=col>&lt;dbl&gt;</th><th scope=col>&lt;dbl&gt;</th><th scope=col>&lt;dbl&gt;</th><th scope=col>&lt;dbl&gt;</th><th scope=col>&lt;chr&gt;</th><th scope=col>&lt;dbl&gt;</th></tr>\n",
       "</thead>\n",
       "<tbody>\n",
       "\t<tr><td>2019-09-09</td><td>weekday</td><td> 601</td><td>1.56</td><td>2</td><td>10.25</td><td>Credit</td><td> 9.344426</td></tr>\n",
       "\t<tr><td>2019-08-29</td><td>weekday</td><td> 346</td><td>0.73</td><td>2</td><td> 8.25</td><td>Credit</td><td> 7.595376</td></tr>\n",
       "\t<tr><td>2019-02-22</td><td>weekend</td><td> 931</td><td>3.29</td><td>0</td><td>13.75</td><td>Cash  </td><td>12.721805</td></tr>\n",
       "\t<tr><td>2019-05-30</td><td>weekday</td><td> 252</td><td>0.70</td><td>0</td><td> 5.25</td><td>Cash  </td><td>10.000000</td></tr>\n",
       "\t<tr><td>2019-07-21</td><td>weekday</td><td> 393</td><td>1.12</td><td>0</td><td> 7.25</td><td>Cash  </td><td>10.259542</td></tr>\n",
       "\t<tr><td>2019-11-30</td><td>weekend</td><td>1320</td><td>1.10</td><td>1</td><td>46.25</td><td>Credit</td><td> 3.000000</td></tr>\n",
       "</tbody>\n",
       "</table>\n"
      ],
      "text/latex": [
       "A tibble: 6 × 8\n",
       "\\begin{tabular}{llllllll}\n",
       " date & daytype & seconds & miles & tips & total & payment\\_type & speed\\\\\n",
       " <dttm> & <chr> & <dbl> & <dbl> & <dbl> & <dbl> & <chr> & <dbl>\\\\\n",
       "\\hline\n",
       "\t 2019-09-09 & weekday &  601 & 1.56 & 2 & 10.25 & Credit &  9.344426\\\\\n",
       "\t 2019-08-29 & weekday &  346 & 0.73 & 2 &  8.25 & Credit &  7.595376\\\\\n",
       "\t 2019-02-22 & weekend &  931 & 3.29 & 0 & 13.75 & Cash   & 12.721805\\\\\n",
       "\t 2019-05-30 & weekday &  252 & 0.70 & 0 &  5.25 & Cash   & 10.000000\\\\\n",
       "\t 2019-07-21 & weekday &  393 & 1.12 & 0 &  7.25 & Cash   & 10.259542\\\\\n",
       "\t 2019-11-30 & weekend & 1320 & 1.10 & 1 & 46.25 & Credit &  3.000000\\\\\n",
       "\\end{tabular}\n"
      ],
      "text/markdown": [
       "\n",
       "A tibble: 6 × 8\n",
       "\n",
       "| date &lt;dttm&gt; | daytype &lt;chr&gt; | seconds &lt;dbl&gt; | miles &lt;dbl&gt; | tips &lt;dbl&gt; | total &lt;dbl&gt; | payment_type &lt;chr&gt; | speed &lt;dbl&gt; |\n",
       "|---|---|---|---|---|---|---|---|\n",
       "| 2019-09-09 | weekday |  601 | 1.56 | 2 | 10.25 | Credit |  9.344426 |\n",
       "| 2019-08-29 | weekday |  346 | 0.73 | 2 |  8.25 | Credit |  7.595376 |\n",
       "| 2019-02-22 | weekend |  931 | 3.29 | 0 | 13.75 | Cash   | 12.721805 |\n",
       "| 2019-05-30 | weekday |  252 | 0.70 | 0 |  5.25 | Cash   | 10.000000 |\n",
       "| 2019-07-21 | weekday |  393 | 1.12 | 0 |  7.25 | Cash   | 10.259542 |\n",
       "| 2019-11-30 | weekend | 1320 | 1.10 | 1 | 46.25 | Credit |  3.000000 |\n",
       "\n"
      ],
      "text/plain": [
       "  date       daytype seconds miles tips total payment_type speed    \n",
       "1 2019-09-09 weekday  601    1.56  2    10.25 Credit        9.344426\n",
       "2 2019-08-29 weekday  346    0.73  2     8.25 Credit        7.595376\n",
       "3 2019-02-22 weekend  931    3.29  0    13.75 Cash         12.721805\n",
       "4 2019-05-30 weekday  252    0.70  0     5.25 Cash         10.000000\n",
       "5 2019-07-21 weekday  393    1.12  0     7.25 Cash         10.259542\n",
       "6 2019-11-30 weekend 1320    1.10  1    46.25 Credit        3.000000"
      ]
     },
     "metadata": {},
     "output_type": "display_data"
    }
   ],
   "source": [
    "chicago_cab <- read_xlsx('datasets/chicago_taxi.xlsx')\n",
    "chicago_cab %>% head()"
   ]
  },
  {
   "cell_type": "markdown",
   "id": "e5fbaa97-556a-4d99-92eb-2f6d01400b5e",
   "metadata": {},
   "source": [
    "- DATA TWO: This is simulated data - modeled after a private data set\n",
    "- LINK: https://quantdev.ssri.psu.edu/sites/qdev/files/ptechdata.csv\n",
    "- There are 2 samples in the data - designated by id."
   ]
  },
  {
   "cell_type": "code",
   "execution_count": 4,
   "id": "e68a3d52-c225-4fe8-a0f1-c72de44611dc",
   "metadata": {
    "vscode": {
     "languageId": "r"
    }
   },
   "outputs": [
    {
     "data": {
      "text/html": [
       "<table class=\"dataframe\">\n",
       "<caption>A data.frame: 6 × 10</caption>\n",
       "<thead>\n",
       "\t<tr><th></th><th scope=col>id</th><th scope=col>v1</th><th scope=col>v2</th><th scope=col>v3</th><th scope=col>v4</th><th scope=col>v5</th><th scope=col>v6</th><th scope=col>v7</th><th scope=col>v8</th><th scope=col>v9</th></tr>\n",
       "\t<tr><th></th><th scope=col>&lt;int&gt;</th><th scope=col>&lt;dbl&gt;</th><th scope=col>&lt;dbl&gt;</th><th scope=col>&lt;dbl&gt;</th><th scope=col>&lt;dbl&gt;</th><th scope=col>&lt;dbl&gt;</th><th scope=col>&lt;dbl&gt;</th><th scope=col>&lt;dbl&gt;</th><th scope=col>&lt;dbl&gt;</th><th scope=col>&lt;dbl&gt;</th></tr>\n",
       "</thead>\n",
       "<tbody>\n",
       "\t<tr><th scope=row>1</th><td>1</td><td>-0.84</td><td>-0.27</td><td>-0.59</td><td>-0.97</td><td>-0.72</td><td>-1.86</td><td> 1.11</td><td> 0.46</td><td> 0.09</td></tr>\n",
       "\t<tr><th scope=row>2</th><td>1</td><td>-0.04</td><td>-0.33</td><td>-0.54</td><td> 2.57</td><td> 1.30</td><td> 0.59</td><td> 1.42</td><td> 2.56</td><td> 0.66</td></tr>\n",
       "\t<tr><th scope=row>3</th><td>1</td><td> 0.34</td><td>-0.23</td><td> 0.99</td><td>-1.84</td><td>-1.62</td><td>-1.55</td><td> 1.05</td><td> 0.22</td><td> 0.60</td></tr>\n",
       "\t<tr><th scope=row>4</th><td>1</td><td>-1.01</td><td>-1.96</td><td>-1.17</td><td>-2.93</td><td>-1.75</td><td>-1.89</td><td>-0.51</td><td>-0.07</td><td> 1.14</td></tr>\n",
       "\t<tr><th scope=row>5</th><td>1</td><td> 2.02</td><td> 0.21</td><td> 0.97</td><td> 0.13</td><td>-0.01</td><td>-0.88</td><td>-1.22</td><td> 0.54</td><td>-0.28</td></tr>\n",
       "\t<tr><th scope=row>6</th><td>1</td><td>-0.24</td><td>-0.19</td><td> 0.23</td><td> 0.80</td><td> 1.06</td><td> 1.61</td><td> 1.31</td><td>-1.10</td><td> 0.26</td></tr>\n",
       "</tbody>\n",
       "</table>\n"
      ],
      "text/latex": [
       "A data.frame: 6 × 10\n",
       "\\begin{tabular}{r|llllllllll}\n",
       "  & id & v1 & v2 & v3 & v4 & v5 & v6 & v7 & v8 & v9\\\\\n",
       "  & <int> & <dbl> & <dbl> & <dbl> & <dbl> & <dbl> & <dbl> & <dbl> & <dbl> & <dbl>\\\\\n",
       "\\hline\n",
       "\t1 & 1 & -0.84 & -0.27 & -0.59 & -0.97 & -0.72 & -1.86 &  1.11 &  0.46 &  0.09\\\\\n",
       "\t2 & 1 & -0.04 & -0.33 & -0.54 &  2.57 &  1.30 &  0.59 &  1.42 &  2.56 &  0.66\\\\\n",
       "\t3 & 1 &  0.34 & -0.23 &  0.99 & -1.84 & -1.62 & -1.55 &  1.05 &  0.22 &  0.60\\\\\n",
       "\t4 & 1 & -1.01 & -1.96 & -1.17 & -2.93 & -1.75 & -1.89 & -0.51 & -0.07 &  1.14\\\\\n",
       "\t5 & 1 &  2.02 &  0.21 &  0.97 &  0.13 & -0.01 & -0.88 & -1.22 &  0.54 & -0.28\\\\\n",
       "\t6 & 1 & -0.24 & -0.19 &  0.23 &  0.80 &  1.06 &  1.61 &  1.31 & -1.10 &  0.26\\\\\n",
       "\\end{tabular}\n"
      ],
      "text/markdown": [
       "\n",
       "A data.frame: 6 × 10\n",
       "\n",
       "| <!--/--> | id &lt;int&gt; | v1 &lt;dbl&gt; | v2 &lt;dbl&gt; | v3 &lt;dbl&gt; | v4 &lt;dbl&gt; | v5 &lt;dbl&gt; | v6 &lt;dbl&gt; | v7 &lt;dbl&gt; | v8 &lt;dbl&gt; | v9 &lt;dbl&gt; |\n",
       "|---|---|---|---|---|---|---|---|---|---|---|\n",
       "| 1 | 1 | -0.84 | -0.27 | -0.59 | -0.97 | -0.72 | -1.86 |  1.11 |  0.46 |  0.09 |\n",
       "| 2 | 1 | -0.04 | -0.33 | -0.54 |  2.57 |  1.30 |  0.59 |  1.42 |  2.56 |  0.66 |\n",
       "| 3 | 1 |  0.34 | -0.23 |  0.99 | -1.84 | -1.62 | -1.55 |  1.05 |  0.22 |  0.60 |\n",
       "| 4 | 1 | -1.01 | -1.96 | -1.17 | -2.93 | -1.75 | -1.89 | -0.51 | -0.07 |  1.14 |\n",
       "| 5 | 1 |  2.02 |  0.21 |  0.97 |  0.13 | -0.01 | -0.88 | -1.22 |  0.54 | -0.28 |\n",
       "| 6 | 1 | -0.24 | -0.19 |  0.23 |  0.80 |  1.06 |  1.61 |  1.31 | -1.10 |  0.26 |\n",
       "\n"
      ],
      "text/plain": [
       "  id v1    v2    v3    v4    v5    v6    v7    v8    v9   \n",
       "1 1  -0.84 -0.27 -0.59 -0.97 -0.72 -1.86  1.11  0.46  0.09\n",
       "2 1  -0.04 -0.33 -0.54  2.57  1.30  0.59  1.42  2.56  0.66\n",
       "3 1   0.34 -0.23  0.99 -1.84 -1.62 -1.55  1.05  0.22  0.60\n",
       "4 1  -1.01 -1.96 -1.17 -2.93 -1.75 -1.89 -0.51 -0.07  1.14\n",
       "5 1   2.02  0.21  0.97  0.13 -0.01 -0.88 -1.22  0.54 -0.28\n",
       "6 1  -0.24 -0.19  0.23  0.80  1.06  1.61  1.31 -1.10  0.26"
      ]
     },
     "metadata": {},
     "output_type": "display_data"
    }
   ],
   "source": [
    "ptech <- read.csv('datasets/ptechdata.csv')\n",
    "ptech %>% head()"
   ]
  },
  {
   "cell_type": "markdown",
   "id": "951036a2-8bb6-4f6d-b33f-9c5f107891d6",
   "metadata": {},
   "source": [
    "# Chapter 3: Methodology"
   ]
  },
  {
   "cell_type": "markdown",
   "id": "acb9829c-860d-4603-ad76-d8b70da018ed",
   "metadata": {},
   "source": [
    "Statistical Measures\n",
    "\n",
    "Mean: The average value of a dataset, calculated by summing all values and dividing by the count.\n",
    "\n",
    "Variance: Measures the spread of data points around the mean. Calculated as the average of the squared differences from the mean.\n",
    "\n",
    "Standard Deviation: The square root of variance, showing spread in the same units as the data.\n",
    "\n",
    "Mode: The most frequently occurring value in a dataset.\n",
    "\n",
    "First Quantile (Q1): The value below which 25% of the data fall.\n",
    "\n",
    "Third Quantile (Q3): The value below which 75% of the data fall.\n",
    "Probability and Distributions\n",
    "\n",
    "Outlier Analysis: It is the process of identifying outliers, or abnormal observations, in a dataset.\n",
    "\n",
    "Central Limit Theorem Verification that is verifying that as the number of sample means increase for different distributions it approximates to a gaussian distribution.\n",
    "\n",
    "Probability Calculations: It is to determine the likelihood of a random variable.\n",
    "\n",
    "Joint Distributions: Probability distribution of two or more variables.\n",
    "\n",
    "Conditional Expectations: Expected value of a variable given the value of another.\n",
    "\n",
    "Bayes’ Rule: Updates the probability of a hypothesis based on new evidence.\n",
    "Random Variables and Order Statistics\n",
    "\n",
    "Discrete Random Variables: Countable values (e.g., number of heads in coin flips).\n",
    "\n",
    "Continuous Random Variables: Infinite possible values within a range (e.g., height).\n",
    "\n",
    "Order Statistics: Statistics from ordered values of a sample (e.g., minimum and maximum).\n",
    "Correlation and Markov Chains\n",
    "\n",
    "Correlation: Measures the relationship between two variables. Positive means they move in the same direction, negative means opposite.\n",
    "\n",
    "Markov Chains: A process where the probability of each event depends only on the previous state.\n",
    "Simulation Techniques\n",
    "\n",
    "Used to model complex systems and evaluate performance under various scenarios.\n",
    "Factor Analysis\n",
    "\n",
    "Reduces observed variables into a smaller number of factors to simplify data analysis.\n",
    "Other Techniques\n",
    "\n",
    " Hypothesis Testing: Determines if there's significant evidence for a hypothesis.\n",
    " Principal Component Analysis (PCA): Reduces data dimensionality while retaining most variance.\n",
    " Data Cleaning: Prepares data by handling missing values and outliers.\n",
    " Visualization: Graphically represents data to understand and communicate results.\n",
    "\n",
    "Application in This Project\n",
    "\n",
    "Exploratory Data Analysis (EDA): Summarizing data with mean, variance, and standard deviation.\n",
    "Visualization: Creating plots to show distributions, relationships, and trends.\n",
    "Factor Analysis: Identifying key factors by reducing data dimensions.\n",
    "Hypothesis Testing: Comparing statistics to test research questions.\n",
    "Correlation Analysis: Examining relationships between variables.\n",
    "Simulation: Modeling scenarios to predict outcomes."
   ]
  },
  {
   "attachments": {},
   "cell_type": "markdown",
   "id": "60465b78-b2c5-4b8c-a402-e7833e1936e4",
   "metadata": {},
   "source": [
    "# Chapter 4: Analysis and Results\n",
    "\n",
    "# Simulation Data Analysis"
   ]
  },
  {
   "cell_type": "markdown",
   "id": "1524a0a8-5022-4867-b21b-f7a09248f8c3",
   "metadata": {},
   "source": [
    "# Simulating Continuous Random Variables"
   ]
  },
  {
   "cell_type": "code",
   "execution_count": 5,
   "id": "289cbba9-70a8-42fb-b504-889a9b3b8c97",
   "metadata": {
    "vscode": {
     "languageId": "r"
    }
   },
   "outputs": [],
   "source": [
    "c_normal_dist<- rnorm(500,0,0.1) # Generating Normal Random Variables\n",
    "c_exp_dist <- rexp(500, 2) # Generating Exponential Random Variables\n",
    "cont_data <- as.data.frame(cbind(c_normal_dist,c_exp_dist))"
   ]
  },
  {
   "cell_type": "markdown",
   "id": "5b933b16-437a-47fa-a34d-74991904495f",
   "metadata": {},
   "source": [
    "## Normal Distribution"
   ]
  },
  {
   "cell_type": "code",
   "execution_count": 6,
   "id": "0d9ab757-aa93-4ab4-91c6-fe0fe590bff0",
   "metadata": {
    "vscode": {
     "languageId": "r"
    }
   },
   "outputs": [
    {
     "data": {
      "text/html": [
       "<table class=\"dataframe\">\n",
       "<caption>A psych: 1 × 13</caption>\n",
       "<thead>\n",
       "\t<tr><th></th><th scope=col>vars</th><th scope=col>n</th><th scope=col>mean</th><th scope=col>sd</th><th scope=col>median</th><th scope=col>trimmed</th><th scope=col>mad</th><th scope=col>min</th><th scope=col>max</th><th scope=col>range</th><th scope=col>skew</th><th scope=col>kurtosis</th><th scope=col>se</th></tr>\n",
       "\t<tr><th></th><th scope=col>&lt;dbl&gt;</th><th scope=col>&lt;dbl&gt;</th><th scope=col>&lt;dbl&gt;</th><th scope=col>&lt;dbl&gt;</th><th scope=col>&lt;dbl&gt;</th><th scope=col>&lt;dbl&gt;</th><th scope=col>&lt;dbl&gt;</th><th scope=col>&lt;dbl&gt;</th><th scope=col>&lt;dbl&gt;</th><th scope=col>&lt;dbl&gt;</th><th scope=col>&lt;dbl&gt;</th><th scope=col>&lt;dbl&gt;</th><th scope=col>&lt;dbl&gt;</th></tr>\n",
       "</thead>\n",
       "<tbody>\n",
       "\t<tr><th scope=row>X1</th><td>1</td><td>500</td><td>0.003506396</td><td>0.09668058</td><td>0.006392691</td><td>0.003991637</td><td>0.09380782</td><td>-0.3060306</td><td>0.2802378</td><td>0.5862684</td><td>-0.05987917</td><td>0.03014749</td><td>0.004323687</td></tr>\n",
       "</tbody>\n",
       "</table>\n"
      ],
      "text/latex": [
       "A psych: 1 × 13\n",
       "\\begin{tabular}{r|lllllllllllll}\n",
       "  & vars & n & mean & sd & median & trimmed & mad & min & max & range & skew & kurtosis & se\\\\\n",
       "  & <dbl> & <dbl> & <dbl> & <dbl> & <dbl> & <dbl> & <dbl> & <dbl> & <dbl> & <dbl> & <dbl> & <dbl> & <dbl>\\\\\n",
       "\\hline\n",
       "\tX1 & 1 & 500 & 0.003506396 & 0.09668058 & 0.006392691 & 0.003991637 & 0.09380782 & -0.3060306 & 0.2802378 & 0.5862684 & -0.05987917 & 0.03014749 & 0.004323687\\\\\n",
       "\\end{tabular}\n"
      ],
      "text/markdown": [
       "\n",
       "A psych: 1 × 13\n",
       "\n",
       "| <!--/--> | vars &lt;dbl&gt; | n &lt;dbl&gt; | mean &lt;dbl&gt; | sd &lt;dbl&gt; | median &lt;dbl&gt; | trimmed &lt;dbl&gt; | mad &lt;dbl&gt; | min &lt;dbl&gt; | max &lt;dbl&gt; | range &lt;dbl&gt; | skew &lt;dbl&gt; | kurtosis &lt;dbl&gt; | se &lt;dbl&gt; |\n",
       "|---|---|---|---|---|---|---|---|---|---|---|---|---|---|\n",
       "| X1 | 1 | 500 | 0.003506396 | 0.09668058 | 0.006392691 | 0.003991637 | 0.09380782 | -0.3060306 | 0.2802378 | 0.5862684 | -0.05987917 | 0.03014749 | 0.004323687 |\n",
       "\n"
      ],
      "text/plain": [
       "   vars n   mean        sd         median      trimmed     mad       \n",
       "X1 1    500 0.003506396 0.09668058 0.006392691 0.003991637 0.09380782\n",
       "   min        max       range     skew        kurtosis   se         \n",
       "X1 -0.3060306 0.2802378 0.5862684 -0.05987917 0.03014749 0.004323687"
      ]
     },
     "metadata": {},
     "output_type": "display_data"
    }
   ],
   "source": [
    "cont_data %>% pull(c_normal_dist)%>% describe()\n",
    "normal_mean <- cont_data %>% pull(c_normal_dist) %>% mean()\n",
    "normal_sd <- cont_data %>% pull(c_normal_dist) %>% sd()"
   ]
  },
  {
   "cell_type": "code",
   "execution_count": 7,
   "id": "65a4a502-819a-4d5e-8c12-178b8340060b",
   "metadata": {
    "vscode": {
     "languageId": "r"
    }
   },
   "outputs": [
    {
     "name": "stdout",
     "output_type": "stream",
     "text": [
      "First Quantile -0.06043533 \n",
      "Second Quantile 0.006392691 \n",
      "Third Quantile 0.06375722"
     ]
    }
   ],
   "source": [
    "normal_quantile <- cont_data%>% pull(c_normal_dist)%>%interp.quart()\n",
    "\n",
    "n1_quantile<- normal_quantile[1]\n",
    "n2_quantile<- normal_quantile[2]\n",
    "n3_quantile<- normal_quantile[3]\n",
    "\n",
    "cat('First Quantile',n1_quantile, '\\n'); cat('Second Quantile',n2_quantile, '\\n');cat('Third Quantile',n3_quantile)"
   ]
  },
  {
   "cell_type": "code",
   "execution_count": 8,
   "id": "6bb96039-2ea7-4c74-adb4-058922267e0b",
   "metadata": {
    "vscode": {
     "languageId": "r"
    }
   },
   "outputs": [
    {
     "name": "stderr",
     "output_type": "stream",
     "text": [
      "\u001b[1m\u001b[22m`stat_bin()` using `bins = 30`. Pick better value with `binwidth`.\n"
     ]
    },
    {
     "data": {
      "image/png": "[encoded data removed]",
      "text/plain": [
       "plot without title"
      ]
     },
     "metadata": {
      "image/png": {
       "height": 420,
       "width": 420
      }
     },
     "output_type": "display_data"
    }
   ],
   "source": [
    "ggplot(cont_data, aes(x=c_normal_dist, y =after_stat(density)))+geom_histogram(color='black') + geom_density(color='red',linewidth=2)"
   ]
  },
  {
   "cell_type": "markdown",
   "id": "13051088-eb2f-4f80-91e8-c137abff8213",
   "metadata": {},
   "source": [
    "### Central Limit Theorem Verification "
   ]
  },
  {
   "cell_type": "markdown",
   "id": "655be802-6418-45af-88de-dc3601fe3a82",
   "metadata": {},
   "source": [
    "## The central limit theorem (CLT) states that the distribution of sample means approximates a normal distribution as the sample size increases, regardless of the population's distribution. Here we verify Central Limit Theorem for a Normal Distribution and a Exponential Distribution. Usually its not required to verify an already normal distribution, I have verified CLT for other distributions like Poisson and Exponential.\n",
    "\n",
    "### I have taken three sample sizes where n that is number of sample size increments to the before sample. We then plotted out them to se the verified Central Limit Theorem."
   ]
  },
  {
   "cell_type": "code",
   "execution_count": 9,
   "id": "b9008ce8-3e01-4d5c-ab43-76eaf9f8eee2",
   "metadata": {
    "vscode": {
     "languageId": "r"
    }
   },
   "outputs": [],
   "source": [
    "clt <- function(sample_size, no_of_sample_means) {\n",
    "  mean_list <- c()\n",
    "  for (i in 1:no_of_sample_means) {\n",
    "    sample <- sample(cont_data%>% pull(c_normal_dist), size = sample_size, replace = FALSE)\n",
    "    sample_mean <- mean(sample)\n",
    "    mean_list <- c(mean_list, sample_mean)\n",
    "  }\n",
    "  return(mean_list)\n",
    "}"
   ]
  },
  {
   "cell_type": "code",
   "execution_count": 10,
   "id": "0c226566-51de-46c3-b024-5fb589a971aa",
   "metadata": {
    "vscode": {
     "languageId": "r"
    }
   },
   "outputs": [
    {
     "name": "stderr",
     "output_type": "stream",
     "text": [
      "\u001b[1m\u001b[22m`stat_bin()` using `bins = 30`. Pick better value with `binwidth`.\n",
      "\u001b[1m\u001b[22m`stat_bin()` using `bins = 30`. Pick better value with `binwidth`.\n"
     ]
    },
    {
     "data": {
      "image/png": "[encoded data removed]",
      "text/plain": [
       "plot without title"
      ]
     },
     "metadata": {
      "image/png": {
       "height": 420,
       "width": 420
      }
     },
     "output_type": "display_data"
    },
    {
     "name": "stderr",
     "output_type": "stream",
     "text": [
      "\u001b[1m\u001b[22m`stat_bin()` using `bins = 30`. Pick better value with `binwidth`.\n"
     ]
    },
    {
     "data": {
      "image/png": "[encoded data removed]",
      "text/plain": [
       "plot without title"
      ]
     },
     "metadata": {
      "image/png": {
       "height": 420,
       "width": 420
      }
     },
     "output_type": "display_data"
    },
    {
     "data": {
      "image/png": "[encoded data removed]",
      "text/plain": [
       "plot without title"
      ]
     },
     "metadata": {
      "image/png": {
       "height": 420,
       "width": 420
      }
     },
     "output_type": "display_data"
    }
   ],
   "source": [
    "ss_10<- clt(10,100)\n",
    "ss_30 <- clt(30,100)\n",
    "ss_100<- clt(100,100)\n",
    "clt_verify <- data.frame(ss_10,ss_30,ss_100)\n",
    "\n",
    "ggplot(clt_verify, aes(x=ss_10,y=after_stat(density))) + geom_histogram()+ geom_density(color='red',linewidth=2)+labs(title='Sample size=10')\n",
    "ggplot(clt_verify, aes(x=ss_30, y=after_stat(density))) +geom_histogram() + geom_density(color='red',linewidth=2)+labs(title='Sample size=30')\n",
    "ggplot(clt_verify, aes(x=ss_100, y=after_stat(density))) +geom_histogram() + geom_density(color='red',linewidth=2)+labs(title='Sample size=100')"
   ]
  },
  {
   "cell_type": "markdown",
   "id": "9728761d-e6d6-4bd6-af38-fe40a31c05fd",
   "metadata": {},
   "source": [
    "### Outlier Analysis"
   ]
  },
  {
   "cell_type": "code",
   "execution_count": 11,
   "id": "4895cf56-5426-43c9-b2d5-dda36995475b",
   "metadata": {
    "vscode": {
     "languageId": "r"
    }
   },
   "outputs": [
    {
     "data": {
      "image/png": "[encoded data removed]",
      "text/plain": [
       "plot without title"
      ]
     },
     "metadata": {
      "image/png": {
       "height": 420,
       "width": 420
      }
     },
     "output_type": "display_data"
    }
   ],
   "source": [
    "ggplot(cont_data, aes(x=c_normal_dist)) + geom_boxplot()"
   ]
  },
  {
   "cell_type": "code",
   "execution_count": 12,
   "id": "1ae242a5-20ed-4ca2-9265-e50e604733ae",
   "metadata": {
    "vscode": {
     "languageId": "r"
    }
   },
   "outputs": [
    {
     "data": {
      "text/html": [
       "<style>\n",
       ".list-inline {list-style: none; margin:0; padding: 0}\n",
       ".list-inline>li {display: inline-block}\n",
       ".list-inline>li:not(:last-child)::after {content: \"\\00b7\"; padding: 0 .5ex}\n",
       "</style>\n",
       "<ol class=list-inline><li>-0.306030606238373</li><li>0.2802377965144</li><li>-0.258031840095439</li><li>-0.247769557290005</li><li>0.276890473651954</li></ol>\n"
      ],
      "text/latex": [
       "\\begin{enumerate*}\n",
       "\\item -0.306030606238373\n",
       "\\item 0.2802377965144\n",
       "\\item -0.258031840095439\n",
       "\\item -0.247769557290005\n",
       "\\item 0.276890473651954\n",
       "\\end{enumerate*}\n"
      ],
      "text/markdown": [
       "1. -0.306030606238373\n",
       "2. 0.2802377965144\n",
       "3. -0.258031840095439\n",
       "4. -0.247769557290005\n",
       "5. 0.276890473651954\n",
       "\n",
       "\n"
      ],
      "text/plain": [
       "[1] -0.3060306  0.2802378 -0.2580318 -0.2477696  0.2768905"
      ]
     },
     "metadata": {},
     "output_type": "display_data"
    }
   ],
   "source": [
    "norm_iqr <- n3_quantile - n1_quantile\n",
    "cont_data %>% pull(c_normal_dist) %>% .[(c_normal_dist<(n1_quantile-1.5*norm_iqr))|(c_normal_dist>(n3_quantile+1.5*norm_iqr))]\n"
   ]
  },
  {
   "cell_type": "code",
   "execution_count": 13,
   "id": "c90bb198-1f49-4628-9d8e-6abb7e1c5543",
   "metadata": {
    "vscode": {
     "languageId": "r"
    }
   },
   "outputs": [
    {
     "data": {
      "text/html": [
       "<style>\n",
       ".list-inline {list-style: none; margin:0; padding: 0}\n",
       ".list-inline>li {display: inline-block}\n",
       ".list-inline>li:not(:last-child)::after {content: \"\\00b7\"; padding: 0 .5ex}\n",
       "</style>\n",
       "<ol class=list-inline><li>-0.306030606238373</li><li>0.2802377965144</li><li>0.276890473651954</li></ol>\n"
      ],
      "text/latex": [
       "\\begin{enumerate*}\n",
       "\\item -0.306030606238373\n",
       "\\item 0.2802377965144\n",
       "\\item 0.276890473651954\n",
       "\\end{enumerate*}\n"
      ],
      "text/markdown": [
       "1. -0.306030606238373\n",
       "2. 0.2802377965144\n",
       "3. 0.276890473651954\n",
       "\n",
       "\n"
      ],
      "text/plain": [
       "[1] -0.3060306  0.2802378  0.2768905"
      ]
     },
     "metadata": {},
     "output_type": "display_data"
    }
   ],
   "source": [
    "upper_limit <- normal_mean + 2.73 * normal_sd\n",
    "lower_limit <- normal_mean - 2.73 * normal_sd\n",
    "cont_data %>% pull(c_normal_dist) %>% .[(c_normal_dist > upper_limit)|(c_normal_dist < lower_limit)]"
   ]
  },
  {
   "cell_type": "markdown",
   "id": "50932d74-c2ca-492d-8eb4-8708974fb328",
   "metadata": {},
   "source": [
    "### Probability Calculations"
   ]
  },
  {
   "cell_type": "code",
   "execution_count": 14,
   "id": "2c502b13-5d08-4279-a992-f3f0175773ad",
   "metadata": {
    "vscode": {
     "languageId": "r"
    }
   },
   "outputs": [
    {
     "data": {
      "image/png": "[encoded data removed]",
      "text/plain": [
       "Plot with title \"Empirical CDF of Normal Distribution\""
      ]
     },
     "metadata": {
      "image/png": {
       "height": 420,
       "width": 420
      }
     },
     "output_type": "display_data"
    }
   ],
   "source": [
    "c_normal_dist_sort <- sort(c_normal_dist)\n",
    "plot(c_normal_dist_sort, seq_along(c_normal_dist_sort), type = \"l\", col = \"blue\", xlab = \"x\", ylab = \"CDF\", main = \"Empirical CDF of Normal Distribution\")"
   ]
  },
  {
   "cell_type": "markdown",
   "id": "5a037b0e-7fc9-4131-9770-185c243b6691",
   "metadata": {},
   "source": [
    "#### P(2 < X  -1 )"
   ]
  },
  {
   "cell_type": "code",
   "execution_count": 15,
   "id": "7e9fb513-0648-420d-8ba5-4ea5108d04a9",
   "metadata": {
    "vscode": {
     "languageId": "r"
    }
   },
   "outputs": [
    {
     "data": {
      "text/html": [
       "0"
      ],
      "text/latex": [
       "0"
      ],
      "text/markdown": [
       "0"
      ],
      "text/plain": [
       "[1] 0"
      ]
     },
     "metadata": {},
     "output_type": "display_data"
    }
   ],
   "source": [
    "1 - pnorm(2, mean = -1, sd = 0.1)"
   ]
  },
  {
   "cell_type": "markdown",
   "id": "6c4b7623-b011-4c5f-b3eb-3bc88d846528",
   "metadata": {},
   "source": [
    "#### P(X<=2)"
   ]
  },
  {
   "cell_type": "code",
   "execution_count": 16,
   "id": "48fa7fe0-4337-40d0-8fe5-63972d8d25a4",
   "metadata": {
    "vscode": {
     "languageId": "r"
    }
   },
   "outputs": [
    {
     "data": {
      "text/html": [
       "1"
      ],
      "text/latex": [
       "1"
      ],
      "text/markdown": [
       "1"
      ],
      "text/plain": [
       "[1] 1"
      ]
     },
     "metadata": {},
     "output_type": "display_data"
    }
   ],
   "source": [
    "pnorm(2,0,0.1)"
   ]
  },
  {
   "cell_type": "markdown",
   "id": "ae6825b0-7a52-4352-bcbf-4cffd2adec1d",
   "metadata": {},
   "source": [
    "#### P(X >=1)"
   ]
  },
  {
   "cell_type": "code",
   "execution_count": 17,
   "id": "11064866-e93a-49ca-ad08-9f627ae84e68",
   "metadata": {
    "vscode": {
     "languageId": "r"
    }
   },
   "outputs": [
    {
     "data": {
      "text/html": [
       "7.61985302416053e-24"
      ],
      "text/latex": [
       "7.61985302416053e-24"
      ],
      "text/markdown": [
       "7.61985302416053e-24"
      ],
      "text/plain": [
       "[1] 7.619853e-24"
      ]
     },
     "metadata": {},
     "output_type": "display_data"
    }
   ],
   "source": [
    "pnorm(1, 0, 0.1, lower.tail = FALSE)"
   ]
  },
  {
   "cell_type": "markdown",
   "id": "5b970d55-c97a-4f59-be65-3d9696af643e",
   "metadata": {},
   "source": [
    "#### P(X=1)"
   ]
  },
  {
   "cell_type": "code",
   "execution_count": 18,
   "id": "e2a0c445-5964-4e0b-ab10-ae1c98524c70",
   "metadata": {
    "vscode": {
     "languageId": "r"
    }
   },
   "outputs": [
    {
     "data": {
      "text/html": [
       "7.69459862670642e-22"
      ],
      "text/latex": [
       "7.69459862670642e-22"
      ],
      "text/markdown": [
       "7.69459862670642e-22"
      ],
      "text/plain": [
       "[1] 7.694599e-22"
      ]
     },
     "metadata": {},
     "output_type": "display_data"
    }
   ],
   "source": [
    "dnorm(1, mean = 0, sd = 0.1)"
   ]
  },
  {
   "cell_type": "markdown",
   "id": "ba659fe2-ade5-4977-9776-2a703fbfc77e",
   "metadata": {},
   "source": [
    "## Exponential Distribution"
   ]
  },
  {
   "cell_type": "code",
   "execution_count": 19,
   "id": "84842768-65a6-4cc7-8455-12da24f25036",
   "metadata": {
    "vscode": {
     "languageId": "r"
    }
   },
   "outputs": [
    {
     "data": {
      "text/html": [
       "<table class=\"dataframe\">\n",
       "<caption>A psych: 1 × 13</caption>\n",
       "<thead>\n",
       "\t<tr><th></th><th scope=col>vars</th><th scope=col>n</th><th scope=col>mean</th><th scope=col>sd</th><th scope=col>median</th><th scope=col>trimmed</th><th scope=col>mad</th><th scope=col>min</th><th scope=col>max</th><th scope=col>range</th><th scope=col>skew</th><th scope=col>kurtosis</th><th scope=col>se</th></tr>\n",
       "\t<tr><th></th><th scope=col>&lt;dbl&gt;</th><th scope=col>&lt;dbl&gt;</th><th scope=col>&lt;dbl&gt;</th><th scope=col>&lt;dbl&gt;</th><th scope=col>&lt;dbl&gt;</th><th scope=col>&lt;dbl&gt;</th><th scope=col>&lt;dbl&gt;</th><th scope=col>&lt;dbl&gt;</th><th scope=col>&lt;dbl&gt;</th><th scope=col>&lt;dbl&gt;</th><th scope=col>&lt;dbl&gt;</th><th scope=col>&lt;dbl&gt;</th><th scope=col>&lt;dbl&gt;</th></tr>\n",
       "</thead>\n",
       "<tbody>\n",
       "\t<tr><th scope=row>X1</th><td>1</td><td>500</td><td>0.4852016</td><td>0.4889651</td><td>0.3210844</td><td>0.4005337</td><td>0.3334003</td><td>0.0004996973</td><td>3.05936</td><td>3.05886</td><td>1.81772</td><td>4.065458</td><td>0.02186718</td></tr>\n",
       "</tbody>\n",
       "</table>\n"
      ],
      "text/latex": [
       "A psych: 1 × 13\n",
       "\\begin{tabular}{r|lllllllllllll}\n",
       "  & vars & n & mean & sd & median & trimmed & mad & min & max & range & skew & kurtosis & se\\\\\n",
       "  & <dbl> & <dbl> & <dbl> & <dbl> & <dbl> & <dbl> & <dbl> & <dbl> & <dbl> & <dbl> & <dbl> & <dbl> & <dbl>\\\\\n",
       "\\hline\n",
       "\tX1 & 1 & 500 & 0.4852016 & 0.4889651 & 0.3210844 & 0.4005337 & 0.3334003 & 0.0004996973 & 3.05936 & 3.05886 & 1.81772 & 4.065458 & 0.02186718\\\\\n",
       "\\end{tabular}\n"
      ],
      "text/markdown": [
       "\n",
       "A psych: 1 × 13\n",
       "\n",
       "| <!--/--> | vars &lt;dbl&gt; | n &lt;dbl&gt; | mean &lt;dbl&gt; | sd &lt;dbl&gt; | median &lt;dbl&gt; | trimmed &lt;dbl&gt; | mad &lt;dbl&gt; | min &lt;dbl&gt; | max &lt;dbl&gt; | range &lt;dbl&gt; | skew &lt;dbl&gt; | kurtosis &lt;dbl&gt; | se &lt;dbl&gt; |\n",
       "|---|---|---|---|---|---|---|---|---|---|---|---|---|---|\n",
       "| X1 | 1 | 500 | 0.4852016 | 0.4889651 | 0.3210844 | 0.4005337 | 0.3334003 | 0.0004996973 | 3.05936 | 3.05886 | 1.81772 | 4.065458 | 0.02186718 |\n",
       "\n"
      ],
      "text/plain": [
       "   vars n   mean      sd        median    trimmed   mad       min         \n",
       "X1 1    500 0.4852016 0.4889651 0.3210844 0.4005337 0.3334003 0.0004996973\n",
       "   max     range   skew    kurtosis se        \n",
       "X1 3.05936 3.05886 1.81772 4.065458 0.02186718"
      ]
     },
     "metadata": {},
     "output_type": "display_data"
    }
   ],
   "source": [
    "cont_data %>% pull(c_exp_dist)%>% describe()"
   ]
  },
  {
   "cell_type": "code",
   "execution_count": 20,
   "id": "af9540e1-4c3a-44c7-928f-74d6df5a9741",
   "metadata": {
    "vscode": {
     "languageId": "r"
    }
   },
   "outputs": [
    {
     "name": "stdout",
     "output_type": "stream",
     "text": [
      "First Quantile 0.1402208 \n",
      "Second Quantile 0.3210844 \n",
      "Third Quantile 0.6787044"
     ]
    }
   ],
   "source": [
    "exp_quantile <- cont_data%>% pull(c_exp_dist)%>%interp.quart()\n",
    "\n",
    "e1_quantile<- exp_quantile[1]\n",
    "e2_quantile<- exp_quantile[2]\n",
    "e3_quantile<- exp_quantile[3]\n",
    "\n",
    "cat('First Quantile',e1_quantile, '\\n'); cat('Second Quantile',e2_quantile, '\\n');cat('Third Quantile',e3_quantile)"
   ]
  },
  {
   "cell_type": "code",
   "execution_count": 21,
   "id": "3479141d-3070-40c3-b005-a1cda1b159ff",
   "metadata": {
    "vscode": {
     "languageId": "r"
    }
   },
   "outputs": [
    {
     "name": "stderr",
     "output_type": "stream",
     "text": [
      "\u001b[1m\u001b[22m`stat_bin()` using `bins = 30`. Pick better value with `binwidth`.\n"
     ]
    },
    {
     "data": {
      "image/png": "[encoded data removed]",
      "text/plain": [
       "plot without title"
      ]
     },
     "metadata": {
      "image/png": {
       "height": 420,
       "width": 420
      }
     },
     "output_type": "display_data"
    }
   ],
   "source": [
    "ggplot(cont_data, aes(x=c_exp_dist, y =after_stat(density)))+geom_histogram(color='black') + geom_density(color='red', linewidth=2)"
   ]
  },
  {
   "cell_type": "code",
   "execution_count": 22,
   "id": "d1ad06cf-c3d7-46ec-8a38-2d038e478d04",
   "metadata": {
    "vscode": {
     "languageId": "r"
    }
   },
   "outputs": [],
   "source": [
    "e_clt <- function(sample_size, no_of_sample_means) {\n",
    "  mean_list <- c()\n",
    "  for (i in 1:no_of_sample_means) {\n",
    "    sample <- sample(cont_data%>% pull(c_exp_dist), size = sample_size, replace = FALSE)\n",
    "    sample_mean <- mean(sample)\n",
    "    mean_list <- c(mean_list, sample_mean)\n",
    "  }\n",
    "  return(mean_list)\n",
    "}"
   ]
  },
  {
   "cell_type": "code",
   "execution_count": 23,
   "id": "ea9cee5d-5258-4d2c-bbec-b8b9e7f81e05",
   "metadata": {
    "vscode": {
     "languageId": "r"
    }
   },
   "outputs": [
    {
     "name": "stderr",
     "output_type": "stream",
     "text": [
      "\u001b[1m\u001b[22m`stat_bin()` using `bins = 30`. Pick better value with `binwidth`.\n",
      "\u001b[1m\u001b[22m`stat_bin()` using `bins = 30`. Pick better value with `binwidth`.\n"
     ]
    },
    {
     "data": {
      "image/png": "[encoded data removed]",
      "text/plain": [
       "plot without title"
      ]
     },
     "metadata": {
      "image/png": {
       "height": 420,
       "width": 420
      }
     },
     "output_type": "display_data"
    },
    {
     "name": "stderr",
     "output_type": "stream",
     "text": [
      "\u001b[1m\u001b[22m`stat_bin()` using `bins = 30`. Pick better value with `binwidth`.\n"
     ]
    },
    {
     "data": {
      "image/png": "[encoded data removed]",
      "text/plain": [
       "plot without title"
      ]
     },
     "metadata": {
      "image/png": {
       "height": 420,
       "width": 420
      }
     },
     "output_type": "display_data"
    },
    {
     "data": {
      "image/png": "[encoded data removed]",
      "text/plain": [
       "plot without title"
      ]
     },
     "metadata": {
      "image/png": {
       "height": 420,
       "width": 420
      }
     },
     "output_type": "display_data"
    }
   ],
   "source": [
    "hh_10<- e_clt(10,100)\n",
    "hh_30 <- e_clt(30,100)\n",
    "hh_100<- e_clt(250,100)\n",
    "clt_verify_e <- data.frame(hh_10,hh_30,hh_100)\n",
    "\n",
    "ggplot(clt_verify_e, aes(x=hh_10,y=after_stat(density))) + geom_histogram(color='black')+ geom_density(color='red',linewidth=2)+labs(title='Sample size=10')\n",
    "ggplot(clt_verify_e, aes(x=hh_30, y=after_stat(density))) +geom_histogram(color='black') + geom_density(color='red',linewidth=2)+labs(title='Sample size=30')\n",
    "ggplot(clt_verify_e, aes(x=hh_100, y=after_stat(density))) +geom_histogram(color='black') + geom_density(color='red',linewidth=2)+labs(title='Sample size=100')"
   ]
  },
  {
   "cell_type": "markdown",
   "id": "de235bb1-b109-41da-ae1e-a72993df9934",
   "metadata": {},
   "source": [
    "### Probability Calculations"
   ]
  },
  {
   "cell_type": "code",
   "execution_count": 24,
   "id": "065496b0-e95c-4a0b-a849-ed63d3f31acb",
   "metadata": {
    "vscode": {
     "languageId": "r"
    }
   },
   "outputs": [
    {
     "data": {
      "image/png": "[encoded data removed]",
      "text/plain": [
       "Plot with title \"Empirical CDF of Exponential Distribution\""
      ]
     },
     "metadata": {
      "image/png": {
       "height": 420,
       "width": 420
      }
     },
     "output_type": "display_data"
    }
   ],
   "source": [
    "c_exp_dist_sort <- sort(c_exp_dist)\n",
    "plot(c_exp_dist_sort, seq_along(c_exp_dist_sort), type = \"l\", col = \"blue\", xlab = \"x\", ylab = \"CDF\", main = \"Empirical CDF of Exponential Distribution\")"
   ]
  },
  {
   "cell_type": "markdown",
   "id": "1b6548f0-647a-4ec1-a41f-ec5629a149a1",
   "metadata": {},
   "source": [
    "#### P(3<X<4)"
   ]
  },
  {
   "cell_type": "code",
   "execution_count": 25,
   "id": "0bfebd83-3095-4a76-9206-efa052baacab",
   "metadata": {
    "vscode": {
     "languageId": "r"
    }
   },
   "outputs": [
    {
     "data": {
      "text/html": [
       "0.00214328954876386"
      ],
      "text/latex": [
       "0.00214328954876386"
      ],
      "text/markdown": [
       "0.00214328954876386"
      ],
      "text/plain": [
       "[1] 0.00214329"
      ]
     },
     "metadata": {},
     "output_type": "display_data"
    }
   ],
   "source": [
    "pexp(4,2) - pexp(3,2)"
   ]
  },
  {
   "cell_type": "markdown",
   "id": "12cff02b-4531-43df-9e74-45ce621eade1",
   "metadata": {},
   "source": [
    "# Simulating Discrete Random Variables"
   ]
  },
  {
   "cell_type": "code",
   "execution_count": 26,
   "id": "d5aefb54-dd80-44b0-a525-e56e19bd5adc",
   "metadata": {
    "vscode": {
     "languageId": "r"
    }
   },
   "outputs": [],
   "source": [
    "d_pois_dist<- rpois(500,3) # Generating Poisson Random Variables\n",
    "d_bin_dist<- rbinom(500,10,0.5) # Generating Binomial Random Variables\n",
    "disc_data <- as.data.frame(cbind(d_pois_dist,d_bin_dist))"
   ]
  },
  {
   "cell_type": "markdown",
   "id": "dd8ed163-8baa-47e5-986a-5b59b091a03f",
   "metadata": {},
   "source": [
    "## Poisson Distribution"
   ]
  },
  {
   "cell_type": "code",
   "execution_count": 27,
   "id": "18f81159-d78c-4785-b252-021439dc66ab",
   "metadata": {
    "vscode": {
     "languageId": "r"
    }
   },
   "outputs": [
    {
     "data": {
      "text/html": [
       "<table class=\"dataframe\">\n",
       "<caption>A psych: 1 × 13</caption>\n",
       "<thead>\n",
       "\t<tr><th></th><th scope=col>vars</th><th scope=col>n</th><th scope=col>mean</th><th scope=col>sd</th><th scope=col>median</th><th scope=col>trimmed</th><th scope=col>mad</th><th scope=col>min</th><th scope=col>max</th><th scope=col>range</th><th scope=col>skew</th><th scope=col>kurtosis</th><th scope=col>se</th></tr>\n",
       "\t<tr><th></th><th scope=col>&lt;dbl&gt;</th><th scope=col>&lt;dbl&gt;</th><th scope=col>&lt;dbl&gt;</th><th scope=col>&lt;dbl&gt;</th><th scope=col>&lt;dbl&gt;</th><th scope=col>&lt;dbl&gt;</th><th scope=col>&lt;dbl&gt;</th><th scope=col>&lt;dbl&gt;</th><th scope=col>&lt;dbl&gt;</th><th scope=col>&lt;dbl&gt;</th><th scope=col>&lt;dbl&gt;</th><th scope=col>&lt;dbl&gt;</th><th scope=col>&lt;dbl&gt;</th></tr>\n",
       "</thead>\n",
       "<tbody>\n",
       "\t<tr><th scope=row>X1</th><td>1</td><td>500</td><td>3.082</td><td>1.839032</td><td>3</td><td>2.965</td><td>1.4826</td><td>0</td><td>10</td><td>10</td><td>0.5857424</td><td>0.4189691</td><td>0.08224403</td></tr>\n",
       "</tbody>\n",
       "</table>\n"
      ],
      "text/latex": [
       "A psych: 1 × 13\n",
       "\\begin{tabular}{r|lllllllllllll}\n",
       "  & vars & n & mean & sd & median & trimmed & mad & min & max & range & skew & kurtosis & se\\\\\n",
       "  & <dbl> & <dbl> & <dbl> & <dbl> & <dbl> & <dbl> & <dbl> & <dbl> & <dbl> & <dbl> & <dbl> & <dbl> & <dbl>\\\\\n",
       "\\hline\n",
       "\tX1 & 1 & 500 & 3.082 & 1.839032 & 3 & 2.965 & 1.4826 & 0 & 10 & 10 & 0.5857424 & 0.4189691 & 0.08224403\\\\\n",
       "\\end{tabular}\n"
      ],
      "text/markdown": [
       "\n",
       "A psych: 1 × 13\n",
       "\n",
       "| <!--/--> | vars &lt;dbl&gt; | n &lt;dbl&gt; | mean &lt;dbl&gt; | sd &lt;dbl&gt; | median &lt;dbl&gt; | trimmed &lt;dbl&gt; | mad &lt;dbl&gt; | min &lt;dbl&gt; | max &lt;dbl&gt; | range &lt;dbl&gt; | skew &lt;dbl&gt; | kurtosis &lt;dbl&gt; | se &lt;dbl&gt; |\n",
       "|---|---|---|---|---|---|---|---|---|---|---|---|---|---|\n",
       "| X1 | 1 | 500 | 3.082 | 1.839032 | 3 | 2.965 | 1.4826 | 0 | 10 | 10 | 0.5857424 | 0.4189691 | 0.08224403 |\n",
       "\n"
      ],
      "text/plain": [
       "   vars n   mean  sd       median trimmed mad    min max range skew     \n",
       "X1 1    500 3.082 1.839032 3      2.965   1.4826 0   10  10    0.5857424\n",
       "   kurtosis  se        \n",
       "X1 0.4189691 0.08224403"
      ]
     },
     "metadata": {},
     "output_type": "display_data"
    }
   ],
   "source": [
    "disc_data %>% pull(d_pois_dist)%>% describe()"
   ]
  },
  {
   "cell_type": "code",
   "execution_count": 28,
   "id": "6d0004e7-421b-4d4f-b294-f3b0c0e479fd",
   "metadata": {
    "vscode": {
     "languageId": "r"
    }
   },
   "outputs": [
    {
     "name": "stdout",
     "output_type": "stream",
     "text": [
      "First Quantile 1.75 \n",
      "Second Quantile 2.947619 \n",
      "Third Quantile 4.197917"
     ]
    }
   ],
   "source": [
    "poisson_quantile <- disc_data%>% pull(d_pois_dist)%>%interp.quart()\n",
    "\n",
    "p1_quantile<- poisson_quantile[1]\n",
    "p2_quantile<- poisson_quantile[2]\n",
    "p3_quantile<- poisson_quantile[3]\n",
    "\n",
    "cat('First Quantile',p1_quantile, '\\n'); cat('Second Quantile',p2_quantile, '\\n');cat('Third Quantile',p3_quantile)"
   ]
  },
  {
   "cell_type": "code",
   "execution_count": 29,
   "id": "83fe3dce-19a3-4877-88a3-e93ce0d60b0a",
   "metadata": {
    "vscode": {
     "languageId": "r"
    }
   },
   "outputs": [
    {
     "data": {
      "image/png": "[encoded data removed]",
      "text/plain": [
       "plot without title"
      ]
     },
     "metadata": {
      "image/png": {
       "height": 420,
       "width": 420
      }
     },
     "output_type": "display_data"
    }
   ],
   "source": [
    "ggplot(disc_data, aes(x=d_pois_dist, y =after_stat(density)))+geom_histogram(binwidth=1, color='black') + geom_density(color='red', linewidth=2)"
   ]
  },
  {
   "cell_type": "markdown",
   "id": "9e7e7bb8-87dd-4132-97dd-59e3b4879527",
   "metadata": {},
   "source": [
    "### Central Limit Theorem Verification"
   ]
  },
  {
   "cell_type": "code",
   "execution_count": 30,
   "id": "da0540f1-a974-4787-821d-6371cef315e8",
   "metadata": {
    "vscode": {
     "languageId": "r"
    }
   },
   "outputs": [],
   "source": [
    "p_clt <- function(sample_size, no_of_sample_means) {\n",
    "  mean_list <- c()\n",
    "  for (i in 1:no_of_sample_means) {\n",
    "    sample <- sample(disc_data%>% pull(d_pois_dist), size = sample_size, replace = FALSE)\n",
    "    sample_mean <- mean(sample)\n",
    "    mean_list <- c(mean_list, sample_mean)\n",
    "  }\n",
    "  return(mean_list)\n",
    "}"
   ]
  },
  {
   "cell_type": "code",
   "execution_count": 31,
   "id": "6d1298cc-5a94-40a3-94ee-1b734defda45",
   "metadata": {
    "vscode": {
     "languageId": "r"
    }
   },
   "outputs": [
    {
     "name": "stderr",
     "output_type": "stream",
     "text": [
      "\u001b[1m\u001b[22m`stat_bin()` using `bins = 30`. Pick better value with `binwidth`.\n",
      "\u001b[1m\u001b[22m`stat_bin()` using `bins = 30`. Pick better value with `binwidth`.\n"
     ]
    },
    {
     "data": {
      "image/png": "[encoded data removed]",
      "text/plain": [
       "plot without title"
      ]
     },
     "metadata": {
      "image/png": {
       "height": 420,
       "width": 420
      }
     },
     "output_type": "display_data"
    },
    {
     "name": "stderr",
     "output_type": "stream",
     "text": [
      "\u001b[1m\u001b[22m`stat_bin()` using `bins = 30`. Pick better value with `binwidth`.\n"
     ]
    },
    {
     "data": {
      "image/png": "[encoded data removed]",
      "text/plain": [
       "plot without title"
      ]
     },
     "metadata": {
      "image/png": {
       "height": 420,
       "width": 420
      }
     },
     "output_type": "display_data"
    },
    {
     "data": {
      "image/png": "[encoded data removed]",
      "text/plain": [
       "plot without title"
      ]
     },
     "metadata": {
      "image/png": {
       "height": 420,
       "width": 420
      }
     },
     "output_type": "display_data"
    }
   ],
   "source": [
    "ff_10<- p_clt(10,100)\n",
    "ff_30 <- p_clt(30,100)\n",
    "ff_100<- p_clt(250,100)\n",
    "clt_verify_p <- data.frame(ff_10,ff_30,ff_100)\n",
    "\n",
    "ggplot(clt_verify_p, aes(x=ff_10,y=after_stat(density))) + geom_histogram(color='black')+ geom_density(color='red',linewidth=2)+labs(title='Sample size=10')\n",
    "ggplot(clt_verify_p, aes(x=ff_30, y=after_stat(density))) +geom_histogram(color='black') + geom_density(color='red',linewidth=2)+labs(title='Sample size=30')\n",
    "ggplot(clt_verify_p, aes(x=ff_100, y=after_stat(density))) +geom_histogram(color='black') + geom_density(color='red',linewidth=2)+labs(title='Sample size=100')"
   ]
  },
  {
   "cell_type": "markdown",
   "id": "ef0d1dfc-140d-4058-ae7a-561aed0154d2",
   "metadata": {},
   "source": [
    "### Outlier Analysis"
   ]
  },
  {
   "cell_type": "code",
   "execution_count": 32,
   "id": "4a14d1d5-9ad3-4a5d-8798-a24b9ba93081",
   "metadata": {
    "vscode": {
     "languageId": "r"
    }
   },
   "outputs": [
    {
     "data": {
      "image/png": "[encoded data removed]",
      "text/plain": [
       "plot without title"
      ]
     },
     "metadata": {
      "image/png": {
       "height": 420,
       "width": 420
      }
     },
     "output_type": "display_data"
    }
   ],
   "source": [
    "ggplot(disc_data, aes(x=d_pois_dist)) + geom_boxplot()"
   ]
  },
  {
   "cell_type": "code",
   "execution_count": 33,
   "id": "d82d0a93-a4aa-4d66-a45b-776548d97efc",
   "metadata": {
    "vscode": {
     "languageId": "r"
    }
   },
   "outputs": [
    {
     "data": {
      "text/html": [
       "<style>\n",
       ".list-inline {list-style: none; margin:0; padding: 0}\n",
       ".list-inline>li {display: inline-block}\n",
       ".list-inline>li:not(:last-child)::after {content: \"\\00b7\"; padding: 0 .5ex}\n",
       "</style>\n",
       "<ol class=list-inline><li>8</li><li>10</li><li>8</li><li>8</li><li>8</li><li>9</li><li>8</li><li>10</li><li>8</li></ol>\n"
      ],
      "text/latex": [
       "\\begin{enumerate*}\n",
       "\\item 8\n",
       "\\item 10\n",
       "\\item 8\n",
       "\\item 8\n",
       "\\item 8\n",
       "\\item 9\n",
       "\\item 8\n",
       "\\item 10\n",
       "\\item 8\n",
       "\\end{enumerate*}\n"
      ],
      "text/markdown": [
       "1. 8\n",
       "2. 10\n",
       "3. 8\n",
       "4. 8\n",
       "5. 8\n",
       "6. 9\n",
       "7. 8\n",
       "8. 10\n",
       "9. 8\n",
       "\n",
       "\n"
      ],
      "text/plain": [
       "[1]  8 10  8  8  8  9  8 10  8"
      ]
     },
     "metadata": {},
     "output_type": "display_data"
    }
   ],
   "source": [
    "pois_iqr <- p3_quantile - p1_quantile\n",
    "disc_data %>% pull(d_pois_dist) %>%.[(d_pois_dist<(p1_quantile-1.5*pois_iqr))|(d_pois_dist>(p3_quantile+1.5*pois_iqr))]"
   ]
  },
  {
   "cell_type": "markdown",
   "id": "6cbe3cdc-f7cb-4297-8041-eeb00812545e",
   "metadata": {},
   "source": [
    "### Probability Calculations"
   ]
  },
  {
   "cell_type": "code",
   "execution_count": 34,
   "id": "eba01948-7ad8-44db-aff1-faf11d3ff526",
   "metadata": {
    "vscode": {
     "languageId": "r"
    }
   },
   "outputs": [
    {
     "data": {
      "image/png": "[encoded data removed]",
      "text/plain": [
       "Plot with title \"ecdf(d_pois_dist)\""
      ]
     },
     "metadata": {
      "image/png": {
       "height": 420,
       "width": 420
      }
     },
     "output_type": "display_data"
    }
   ],
   "source": [
    "plot(ecdf(d_pois_dist)) "
   ]
  },
  {
   "cell_type": "markdown",
   "id": "cf48c4cf-a44c-404a-a7ba-fd7ccfae8c96",
   "metadata": {},
   "source": [
    "#### P(x<= 1)"
   ]
  },
  {
   "cell_type": "code",
   "execution_count": 35,
   "id": "10a96656-945b-44eb-ac64-ab861fd64536",
   "metadata": {
    "vscode": {
     "languageId": "r"
    }
   },
   "outputs": [
    {
     "data": {
      "text/html": [
       "0.199148273471456"
      ],
      "text/latex": [
       "0.199148273471456"
      ],
      "text/markdown": [
       "0.199148273471456"
      ],
      "text/plain": [
       "[1] 0.1991483"
      ]
     },
     "metadata": {},
     "output_type": "display_data"
    }
   ],
   "source": [
    "ppois(1,3)"
   ]
  },
  {
   "cell_type": "markdown",
   "id": "86b9eff8-7e64-4f19-9f53-4c49450dc271",
   "metadata": {},
   "source": [
    "#### P(x>=1)"
   ]
  },
  {
   "cell_type": "code",
   "execution_count": 36,
   "id": "41870cdd-51e8-47f1-a70e-f1bbcc425148",
   "metadata": {
    "vscode": {
     "languageId": "r"
    }
   },
   "outputs": [
    {
     "data": {
      "text/html": [
       "0.800851726528544"
      ],
      "text/latex": [
       "0.800851726528544"
      ],
      "text/markdown": [
       "0.800851726528544"
      ],
      "text/plain": [
       "[1] 0.8008517"
      ]
     },
     "metadata": {},
     "output_type": "display_data"
    }
   ],
   "source": [
    "ppois(1,3, lower.tail=FALSE)"
   ]
  },
  {
   "cell_type": "markdown",
   "id": "5cf8fef9-ae1d-46b4-9539-bcc34a1d40fb",
   "metadata": {},
   "source": [
    "## Binomial Distribution"
   ]
  },
  {
   "cell_type": "code",
   "execution_count": 37,
   "id": "0677b9f4-9443-4099-a72d-9b662388d5fb",
   "metadata": {
    "vscode": {
     "languageId": "r"
    }
   },
   "outputs": [
    {
     "data": {
      "text/html": [
       "<table class=\"dataframe\">\n",
       "<caption>A psych: 1 × 13</caption>\n",
       "<thead>\n",
       "\t<tr><th></th><th scope=col>vars</th><th scope=col>n</th><th scope=col>mean</th><th scope=col>sd</th><th scope=col>median</th><th scope=col>trimmed</th><th scope=col>mad</th><th scope=col>min</th><th scope=col>max</th><th scope=col>range</th><th scope=col>skew</th><th scope=col>kurtosis</th><th scope=col>se</th></tr>\n",
       "\t<tr><th></th><th scope=col>&lt;dbl&gt;</th><th scope=col>&lt;dbl&gt;</th><th scope=col>&lt;dbl&gt;</th><th scope=col>&lt;dbl&gt;</th><th scope=col>&lt;dbl&gt;</th><th scope=col>&lt;dbl&gt;</th><th scope=col>&lt;dbl&gt;</th><th scope=col>&lt;dbl&gt;</th><th scope=col>&lt;dbl&gt;</th><th scope=col>&lt;dbl&gt;</th><th scope=col>&lt;dbl&gt;</th><th scope=col>&lt;dbl&gt;</th><th scope=col>&lt;dbl&gt;</th></tr>\n",
       "</thead>\n",
       "<tbody>\n",
       "\t<tr><th scope=row>X1</th><td>1</td><td>500</td><td>5.146</td><td>1.598059</td><td>5</td><td>5.1575</td><td>1.4826</td><td>1</td><td>9</td><td>8</td><td>-0.06209972</td><td>-0.2413377</td><td>0.07146736</td></tr>\n",
       "</tbody>\n",
       "</table>\n"
      ],
      "text/latex": [
       "A psych: 1 × 13\n",
       "\\begin{tabular}{r|lllllllllllll}\n",
       "  & vars & n & mean & sd & median & trimmed & mad & min & max & range & skew & kurtosis & se\\\\\n",
       "  & <dbl> & <dbl> & <dbl> & <dbl> & <dbl> & <dbl> & <dbl> & <dbl> & <dbl> & <dbl> & <dbl> & <dbl> & <dbl>\\\\\n",
       "\\hline\n",
       "\tX1 & 1 & 500 & 5.146 & 1.598059 & 5 & 5.1575 & 1.4826 & 1 & 9 & 8 & -0.06209972 & -0.2413377 & 0.07146736\\\\\n",
       "\\end{tabular}\n"
      ],
      "text/markdown": [
       "\n",
       "A psych: 1 × 13\n",
       "\n",
       "| <!--/--> | vars &lt;dbl&gt; | n &lt;dbl&gt; | mean &lt;dbl&gt; | sd &lt;dbl&gt; | median &lt;dbl&gt; | trimmed &lt;dbl&gt; | mad &lt;dbl&gt; | min &lt;dbl&gt; | max &lt;dbl&gt; | range &lt;dbl&gt; | skew &lt;dbl&gt; | kurtosis &lt;dbl&gt; | se &lt;dbl&gt; |\n",
       "|---|---|---|---|---|---|---|---|---|---|---|---|---|---|\n",
       "| X1 | 1 | 500 | 5.146 | 1.598059 | 5 | 5.1575 | 1.4826 | 1 | 9 | 8 | -0.06209972 | -0.2413377 | 0.07146736 |\n",
       "\n"
      ],
      "text/plain": [
       "   vars n   mean  sd       median trimmed mad    min max range skew       \n",
       "X1 1    500 5.146 1.598059 5      5.1575  1.4826 1   9   8     -0.06209972\n",
       "   kurtosis   se        \n",
       "X1 -0.2413377 0.07146736"
      ]
     },
     "metadata": {},
     "output_type": "display_data"
    }
   ],
   "source": [
    "disc_data %>% pull(d_bin_dist)%>% describe()"
   ]
  },
  {
   "cell_type": "code",
   "execution_count": 38,
   "id": "5dbee412-ccb9-4054-9d05-fa02703fc317",
   "metadata": {
    "vscode": {
     "languageId": "r"
    }
   },
   "outputs": [
    {
     "name": "stdout",
     "output_type": "stream",
     "text": [
      "First Quantile 4.026882 \n",
      "Second Quantile 5.175 \n",
      "Third Quantile 6.254386"
     ]
    }
   ],
   "source": [
    "bin_quantile <- disc_data%>% pull(d_bin_dist)%>%interp.quart()\n",
    "\n",
    "b1_quantile<- bin_quantile[1]\n",
    "b2_quantile<- bin_quantile[2]\n",
    "b3_quantile<- bin_quantile[3]\n",
    "\n",
    "cat('First Quantile',b1_quantile, '\\n'); cat('Second Quantile',b2_quantile, '\\n');cat('Third Quantile',b3_quantile)"
   ]
  },
  {
   "cell_type": "code",
   "execution_count": 39,
   "id": "bd5551c6-fc2b-4456-88dc-f91bc66df6a3",
   "metadata": {
    "vscode": {
     "languageId": "r"
    }
   },
   "outputs": [
    {
     "data": {
      "image/png": "[encoded data removed]",
      "text/plain": [
       "plot without title"
      ]
     },
     "metadata": {
      "image/png": {
       "height": 420,
       "width": 420
      }
     },
     "output_type": "display_data"
    }
   ],
   "source": [
    "ggplot(disc_data, aes(x=d_bin_dist, y =after_stat(density)))+geom_histogram(binwidth=1, color='black') + geom_density(color='red', linewidth=2)"
   ]
  },
  {
   "cell_type": "markdown",
   "id": "e4a54346-0097-4f8a-911d-ee82a4dd80ec",
   "metadata": {},
   "source": [
    "### Central Limit Theorem Verification "
   ]
  },
  {
   "cell_type": "code",
   "execution_count": 40,
   "id": "60074bcc-700c-4645-96b0-f1bef468146e",
   "metadata": {
    "vscode": {
     "languageId": "r"
    }
   },
   "outputs": [],
   "source": [
    "b_clt <- function(sample_size, no_of_sample_means) {\n",
    "  mean_list <- c()\n",
    "  for (i in 1:no_of_sample_means) {\n",
    "    sample <- sample(disc_data%>% pull(d_bin_dist), size = sample_size, replace = FALSE)\n",
    "    sample_mean <- mean(sample)\n",
    "    mean_list <- c(mean_list, sample_mean)\n",
    "  }\n",
    "  return(mean_list)\n",
    "}"
   ]
  },
  {
   "cell_type": "code",
   "execution_count": 41,
   "id": "04e6f488-f987-4aaa-8278-1c1ac1bf4d20",
   "metadata": {
    "vscode": {
     "languageId": "r"
    }
   },
   "outputs": [
    {
     "name": "stderr",
     "output_type": "stream",
     "text": [
      "\u001b[1m\u001b[22m`stat_bin()` using `bins = 30`. Pick better value with `binwidth`.\n",
      "\u001b[1m\u001b[22m`stat_bin()` using `bins = 30`. Pick better value with `binwidth`.\n"
     ]
    },
    {
     "data": {
      "image/png": "[encoded data removed]",
      "text/plain": [
       "plot without title"
      ]
     },
     "metadata": {
      "image/png": {
       "height": 420,
       "width": 420
      }
     },
     "output_type": "display_data"
    },
    {
     "name": "stderr",
     "output_type": "stream",
     "text": [
      "\u001b[1m\u001b[22m`stat_bin()` using `bins = 30`. Pick better value with `binwidth`.\n"
     ]
    },
    {
     "data": {
      "image/png": "[encoded data removed]",
      "text/plain": [
       "plot without title"
      ]
     },
     "metadata": {
      "image/png": {
       "height": 420,
       "width": 420
      }
     },
     "output_type": "display_data"
    },
    {
     "data": {
      "image/png": "[encoded data removed]",
      "text/plain": [
       "plot without title"
      ]
     },
     "metadata": {
      "image/png": {
       "height": 420,
       "width": 420
      }
     },
     "output_type": "display_data"
    }
   ],
   "source": [
    "gg_10<- b_clt(10,100)\n",
    "gg_30 <- b_clt(30,100)\n",
    "gg_100<- b_clt(300,100)\n",
    "clt_verify_b <- data.frame(gg_10,gg_30,gg_100)\n",
    "\n",
    "ggplot(clt_verify_b, aes(x=gg_10,y=after_stat(density))) + geom_histogram(color='black')+ geom_density(color='red',linewidth=2)+labs(title='Sample size=10')\n",
    "ggplot(clt_verify_b, aes(x=gg_30, y=after_stat(density))) +geom_histogram(color='black') + geom_density(color='red',linewidth=2)+labs(title='Sample size=30')\n",
    "ggplot(clt_verify_b, aes(x=gg_100, y=after_stat(density))) +geom_histogram(color='black') + geom_density(color='red',linewidth=2)+labs(title='Sample size=100')"
   ]
  },
  {
   "cell_type": "markdown",
   "id": "7560dac0-5ac3-498d-8097-b9ca18e465da",
   "metadata": {},
   "source": [
    "### Outlier Analysis"
   ]
  },
  {
   "cell_type": "code",
   "execution_count": 42,
   "id": "fd51f55d-1aad-4374-b9e1-d8ccfde83432",
   "metadata": {
    "vscode": {
     "languageId": "r"
    }
   },
   "outputs": [
    {
     "data": {
      "image/png": "[encoded data removed]",
      "text/plain": [
       "plot without title"
      ]
     },
     "metadata": {
      "image/png": {
       "height": 420,
       "width": 420
      }
     },
     "output_type": "display_data"
    }
   ],
   "source": [
    "ggplot(disc_data, aes(x=d_bin_dist)) + geom_boxplot()"
   ]
  },
  {
   "cell_type": "code",
   "execution_count": 43,
   "id": "5e5292c9-9287-4f8c-955c-877aea797560",
   "metadata": {
    "vscode": {
     "languageId": "r"
    }
   },
   "outputs": [
    {
     "data": {
      "text/html": [],
      "text/latex": [],
      "text/markdown": [],
      "text/plain": [
       "integer(0)"
      ]
     },
     "metadata": {},
     "output_type": "display_data"
    }
   ],
   "source": [
    "bin_iqr <- b3_quantile - b1_quantile\n",
    "disc_data %>% pull(d_bin_dist) %>%.[(d_bin_dist<(b1_quantile-1.5*bin_iqr))|(d_bin_dist>(b3_quantile+1.5*bin_iqr))]"
   ]
  },
  {
   "cell_type": "markdown",
   "id": "2d5685ba-367e-4c3c-8c44-a4202084ec27",
   "metadata": {},
   "source": [
    "### Probability Calculations"
   ]
  },
  {
   "cell_type": "code",
   "execution_count": 44,
   "id": "51db91ad-42ab-4c64-809d-c788ddcaff4b",
   "metadata": {
    "vscode": {
     "languageId": "r"
    }
   },
   "outputs": [
    {
     "data": {
      "image/png": "[encoded data removed]",
      "text/plain": [
       "Plot with title \"ecdf(d_bin_dist)\""
      ]
     },
     "metadata": {
      "image/png": {
       "height": 420,
       "width": 420
      }
     },
     "output_type": "display_data"
    }
   ],
   "source": [
    "plot(ecdf(d_bin_dist))"
   ]
  },
  {
   "cell_type": "markdown",
   "id": "31a63d2e-e619-4572-b3cf-fb4bfbd04bf5",
   "metadata": {},
   "source": [
    "#### P(X <= 67)"
   ]
  },
  {
   "cell_type": "code",
   "execution_count": 45,
   "id": "0649acec-6524-4ce8-aaa4-75e2a08db9be",
   "metadata": {
    "scrolled": true,
    "vscode": {
     "languageId": "r"
    }
   },
   "outputs": [
    {
     "data": {
      "text/html": [
       "1"
      ],
      "text/latex": [
       "1"
      ],
      "text/markdown": [
       "1"
      ],
      "text/plain": [
       "[1] 1"
      ]
     },
     "metadata": {},
     "output_type": "display_data"
    }
   ],
   "source": [
    "pbinom(67,10,0.5)"
   ]
  },
  {
   "cell_type": "markdown",
   "id": "19c71252-0933-4781-b92b-974aab6ceca1",
   "metadata": {},
   "source": [
    "# Markov Chains"
   ]
  },
  {
   "cell_type": "markdown",
   "id": "21cf9113-a2b1-49d5-850a-6228efb65973",
   "metadata": {},
   "source": [
    "## A Markov chain is a stochastic model describing a sequence of possible events in which the probability of each event depends only on the state attained in theprevious event.["
   ]
  },
  {
   "cell_type": "code",
   "execution_count": 46,
   "id": "7ad37f72-4dc7-4e2c-a788-7880f4eba703",
   "metadata": {
    "vscode": {
     "languageId": "r"
    }
   },
   "outputs": [],
   "source": [
    "markov <- matrix(data = c(0.1,0.2,0.3,0.7,0.4,0.6,0.2,0.4,0.1), nrow=3,ncol=3, byrow=FALSE)"
   ]
  },
  {
   "cell_type": "code",
   "execution_count": 47,
   "id": "79573d25-cae7-4783-9da8-133a4c8c8f48",
   "metadata": {
    "vscode": {
     "languageId": "r"
    }
   },
   "outputs": [
    {
     "data": {
      "text/html": [
       "<table class=\"dataframe\">\n",
       "<caption>A matrix: 3 × 3 of type dbl</caption>\n",
       "<tbody>\n",
       "\t<tr><td>0.1</td><td>0.7</td><td>0.2</td></tr>\n",
       "\t<tr><td>0.2</td><td>0.4</td><td>0.4</td></tr>\n",
       "\t<tr><td>0.3</td><td>0.6</td><td>0.1</td></tr>\n",
       "</tbody>\n",
       "</table>\n"
      ],
      "text/latex": [
       "A matrix: 3 × 3 of type dbl\n",
       "\\begin{tabular}{lll}\n",
       "\t 0.1 & 0.7 & 0.2\\\\\n",
       "\t 0.2 & 0.4 & 0.4\\\\\n",
       "\t 0.3 & 0.6 & 0.1\\\\\n",
       "\\end{tabular}\n"
      ],
      "text/markdown": [
       "\n",
       "A matrix: 3 × 3 of type dbl\n",
       "\n",
       "| 0.1 | 0.7 | 0.2 |\n",
       "| 0.2 | 0.4 | 0.4 |\n",
       "| 0.3 | 0.6 | 0.1 |\n",
       "\n"
      ],
      "text/plain": [
       "     [,1] [,2] [,3]\n",
       "[1,] 0.1  0.7  0.2 \n",
       "[2,] 0.2  0.4  0.4 \n",
       "[3,] 0.3  0.6  0.1 "
      ]
     },
     "metadata": {},
     "output_type": "display_data"
    }
   ],
   "source": [
    "markov"
   ]
  },
  {
   "cell_type": "code",
   "execution_count": 48,
   "id": "02b89872-7e76-4f3a-bb81-e94227389f01",
   "metadata": {
    "vscode": {
     "languageId": "r"
    }
   },
   "outputs": [
    {
     "data": {
      "text/html": [
       "9"
      ],
      "text/latex": [
       "9"
      ],
      "text/markdown": [
       "9"
      ],
      "text/plain": [
       "[1] 9"
      ]
     },
     "metadata": {},
     "output_type": "display_data"
    }
   ],
   "source": [
    "length(markov)"
   ]
  },
  {
   "cell_type": "markdown",
   "id": "7ce5e357-4e4a-489c-bb4f-9c163315365a",
   "metadata": {},
   "source": [
    "### The transition matrix for a Markov chain is a stochastic matrix whose (i, j) entry gives the probability that an element moves from the state si to the state sj during the next step of the process. This probability does not depend upon which states the chain was in before the current state. The probabilities pij are called transition probabilities."
   ]
  },
  {
   "cell_type": "code",
   "execution_count": 49,
   "id": "1d4ae0d4-6ba4-4fe8-843a-a986586f0f07",
   "metadata": {
    "vscode": {
     "languageId": "r"
    }
   },
   "outputs": [],
   "source": [
    "simulate_markov_chain <- function(transition_matrix, steps) {\n",
    "  # Set the initial state to 0\n",
    "  current_state <- 0\n",
    "  \n",
    "  # Initialize state probabilities to 0\n",
    "  state_probabilities <- rep(0, nrow(transition_matrix))\n",
    "  \n",
    "  # Initialize the sequence with the initial state\n",
    "  sequence <- current_state\n",
    "  \n",
    "  for (i in 1:steps) {\n",
    "    # Update state probabilities\n",
    "    state_probabilities[current_state + 1] <- state_probabilities[current_state + 1] + 1\n",
    "    \n",
    "    # Draw the next state based on the transition probabilities\n",
    "    current_state <- sample(x = 0:(nrow(transition_matrix) - 1),\n",
    "                            size = 1,\n",
    "                            prob = transition_matrix[current_state + 1, ])\n",
    "    \n",
    "    # Append the new state to the sequence\n",
    "    sequence <- c(sequence, current_state)\n",
    "  }\n",
    "  \n",
    "  # Normalize state probabilities\n",
    "  state_probabilities <- state_probabilities / steps\n",
    "  \n",
    "  return(list(sequence = sequence, probabilities = state_probabilities))\n",
    "}"
   ]
  },
  {
   "cell_type": "code",
   "execution_count": 50,
   "id": "df295147-23ed-4d0b-88e7-bc73ede1efd2",
   "metadata": {
    "scrolled": true,
    "vscode": {
     "languageId": "r"
    }
   },
   "outputs": [
    {
     "name": "stdout",
     "output_type": "stream",
     "text": [
      "Simulated State Sequence:\n",
      " [1] 0 1 2 0 2 1 0 1 1 1 2 1 1 0 2 1\n",
      "\n",
      "Simulated State Probabilities:\n",
      "[1] 0.2666667 0.4666667 0.2666667\n"
     ]
    }
   ],
   "source": [
    "simulation_steps <- 15\n",
    "\n",
    "# Simulate Markov chain\n",
    "result <- simulate_markov_chain(markov, simulation_steps)\n",
    "\n",
    "# Print the results\n",
    "cat(\"Simulated State Sequence:\\n\")\n",
    "print(result$sequence)\n",
    "\n",
    "cat(\"\\nSimulated State Probabilities:\\n\")\n",
    "print(result$probabilities)"
   ]
  },
  {
   "cell_type": "markdown",
   "id": "93db0e1e-c7ab-4dfc-bdcd-99e4761c47ad",
   "metadata": {},
   "source": [
    "- This Simulation generates a sequence of states according to a given Markov chain transition matrix. It iterates through the specified number of steps, updating the current state based on transition probabilities and storing the resulting sequence. Additionally, it calculates the probabilities of each state occurring in the simulated sequence by normalizing the frequency of occurrence."
   ]
  },
  {
   "cell_type": "markdown",
   "id": "b0834280-d080-4a90-b471-41951dff9bda",
   "metadata": {},
   "source": [
    "## Recurrent Events"
   ]
  },
  {
   "cell_type": "code",
   "execution_count": 51,
   "id": "381abe6c-80f7-407f-bf37-63363e50e11e",
   "metadata": {
    "scrolled": true,
    "vscode": {
     "languageId": "r"
    }
   },
   "outputs": [
    {
     "name": "stdout",
     "output_type": "stream",
     "text": [
      "Current State: 1 \n",
      "Current State: 1 \n",
      "Current State: 2 \n"
     ]
    }
   ],
   "source": [
    "RecurrentEvent <- R6::R6Class(\n",
    "  \"RecurrentEvent\",\n",
    "  public = list(\n",
    "    markov = NULL,\n",
    "    number_states = NULL,\n",
    "    state = 0,\n",
    "    initialize = function(transition_matrix) {\n",
    "      self$markov <- transition_matrix\n",
    "      self$number_states <- nrow(transition_matrix)\n",
    "    },\n",
    "    event = function() {\n",
    "      next_state <- sample(x = 0:(self$number_states - 1),\n",
    "                           size = 1,\n",
    "                           prob = self$markov[self$state + 1, ])\n",
    "      self$state <- next_state\n",
    "    }\n",
    "  )\n",
    ")\n",
    "\n",
    "recurrentmodel <- RecurrentEvent$new(markov)\n",
    "\n",
    "# Simulate multiple events\n",
    "num_simulations <- 15\n",
    "\n",
    "for (i in 0:(recurrentmodel$number_states - 1)) {\n",
    "  recurrentmodel$event()\n",
    "  cat(\"Current State:\", recurrentmodel$state, \"\\n\")\n",
    "}"
   ]
  },
  {
   "cell_type": "markdown",
   "id": "bbcdc319-5767-4f33-9713-7bb17609e4ae",
   "metadata": {},
   "source": [
    "### Recurrent events are for simulating events governed by a Markov chain. The class includes methods for initialization and generating events based on transition probabilities. It initializes with a transition matrix defining the probabilities of transitioning between states. The subsequent loop simulates multiple events, updating and displaying the current state at each step."
   ]
  },
  {
   "cell_type": "markdown",
   "id": "7899cb75-9108-440f-8c07-521a193a025d",
   "metadata": {},
   "source": [
    "## Ergodicity"
   ]
  },
  {
   "cell_type": "code",
   "execution_count": 52,
   "id": "e202a115-c7da-41d3-8087-cfecfa3e96d1",
   "metadata": {
    "vscode": {
     "languageId": "r"
    }
   },
   "outputs": [
    {
     "name": "stdout",
     "output_type": "stream",
     "text": [
      "Empirical Probabilities: 0.216 0.505 0.279 \n",
      "Stationary Distribution: 0.2068966 0.2068966 0.2068966 \n"
     ]
    }
   ],
   "source": [
    "num_states <- 3\n",
    "\n",
    "# Initial state\n",
    "current_state <- sample(x = 0:(num_states - 1), size = 1)\n",
    "\n",
    "num_steps <- 1000\n",
    "sequences <- numeric(num_steps)\n",
    "state_probabilities <- rep(0, num_states)\n",
    "\n",
    "# Simulate Markov chain\n",
    "for (i in 1:num_steps) {\n",
    "  sequences[i] <- current_state\n",
    "  current_state <- sample(x = 0:(num_states - 1),\n",
    "                          size = 1,\n",
    "                          prob = markov[current_state + 1, ])\n",
    "}\n",
    "\n",
    "for (sequence in sequences) {\n",
    "  state_probabilities[sequence + 1] <- state_probabilities[sequence + 1] + 1\n",
    "}\n",
    "\n",
    "state_probabilities <- state_probabilities / length(sequences) # Time-averaged behavior\n",
    "\n",
    "# Calculate stationary distribution (also known as equilibrium distribution)\n",
    "stationary_distribution <- markov %^% 1000\n",
    "\n",
    "# Display results\n",
    "cat(\"Empirical Probabilities:\", state_probabilities, \"\\n\")\n",
    "cat(\"Stationary Distribution:\", stationary_distribution[, 1], \"\\n\")"
   ]
  },
  {
   "cell_type": "markdown",
   "id": "3f087092-cc0a-4a5e-bd97-7c99a7bcf8a0",
   "metadata": {},
   "source": [
    "### Ergodicity is a property of Markov chains where over time, the system explores all possible states and converges to a stationary distribution. Ergodicity is illustrated by simulating the Markov chain over a large number of steps and observing the convergence of the empirical probabilities towards the stationary distribution. This convergence indicates that regardless of the initial state, the system reaches a state where the probabilities no longer change with further iterations, reflecting the long-term behavior of the Markov chain."
   ]
  },
  {
   "cell_type": "markdown",
   "id": "d2a5b0ab-f37b-4f13-866e-80e2fd317521",
   "metadata": {},
   "source": [
    "## Sensitivity Analysis"
   ]
  },
  {
   "cell_type": "code",
   "execution_count": 53,
   "id": "f654a664-f945-4013-bebb-69513a3965eb",
   "metadata": {
    "scrolled": true,
    "vscode": {
     "languageId": "r"
    }
   },
   "outputs": [
    {
     "name": "stdout",
     "output_type": "stream",
     "text": [
      "Simulated State Sequence:\n",
      " [1] 0 1 1 1 0 1 0 1 0 1 1 0 1 1 0 2\n",
      "\n",
      "Simulated State Probabilities:\n",
      "[1] 0.4 0.6 0.0\n"
     ]
    },
    {
     "data": {
      "image/png": "[encoded data removed]",
      "text/plain": [
       "plot without title"
      ]
     },
     "metadata": {
      "image/png": {
       "height": 420,
       "width": 420
      }
     },
     "output_type": "display_data"
    }
   ],
   "source": [
    "simulate_markov_chain <- function(markov, steps) {\n",
    "  # Set the initial state to 0\n",
    "  current_state <- 0\n",
    "  \n",
    "  # Initialize state probabilities to 0\n",
    "  state_probabilities <- rep(0, nrow(markov))\n",
    "  \n",
    "  # Initialize the sequence with the initial state\n",
    "  sequence <- current_state\n",
    "  \n",
    "  for (i in 1:steps) {\n",
    "    # Update state probabilities\n",
    "    state_probabilities[current_state + 1] <- state_probabilities[current_state + 1] + 1\n",
    "    \n",
    "    # Draw the next state based on the transition probabilities\n",
    "    current_state <- sample(x = 0:(nrow(markov) - 1),\n",
    "                            size = 1,\n",
    "                            prob = markov[current_state + 1, ])\n",
    "    \n",
    "    # Append the new state to the sequence\n",
    "    sequence <- c(sequence, current_state)\n",
    "  }\n",
    "  \n",
    "  # Normalize state probabilities\n",
    "  state_probabilities <- state_probabilities / steps\n",
    "  \n",
    "  return(list(sequence = sequence, probabilities = state_probabilities))\n",
    "}\n",
    "\n",
    "# Define the transition matrix with diagonal elements zero\n",
    "markov <- matrix(c(0.0, 0.9, 0.1,\n",
    "                   0.8, 0.2, 0.0,\n",
    "                   0.0, 0.0, 1.0),\n",
    "                 nrow = 3, ncol = 3, byrow = TRUE)\n",
    "\n",
    "# Number of simulation steps\n",
    "simulation_steps <- 15\n",
    "\n",
    "# Simulate Markov chain\n",
    "result <- simulate_markov_chain(markov, simulation_steps)\n",
    "\n",
    "# Print the results\n",
    "cat(\"Simulated State Sequence:\\n\")\n",
    "print(result$sequence)\n",
    "\n",
    "cat(\"\\nSimulated State Probabilities:\\n\")\n",
    "print(result$probabilities)\n",
    "\n",
    "# Plot the state probabilities\n",
    "state_probs_df <- data.frame(State = 0:(nrow(markov) - 1),\n",
    "                             Probability = result$probabilities)\n",
    "\n",
    "ggplot(state_probs_df, aes(x = State, y = Probability)) +\n",
    "  geom_bar(stat = \"identity\", fill = \"steelblue\") +\n",
    "  labs(title = \"Simulated State Probabilities\",\n",
    "       x = \"State\",\n",
    "       y = \"Probability\") +\n",
    "  theme_minimal()"
   ]
  },
  {
   "cell_type": "markdown",
   "id": "f1ee25b2-e7f4-47a5-8daa-d611e611eede",
   "metadata": {},
   "source": [
    "- The transition matrix of the Markov chain is defined, where diagonal elements are set to zero, likely indicating transitions with no probability of remaining in the same state. The function `simulate_markov_chain`  generates a sequence of states based on the transition probabilities.I have also illustrated the distribution of states over the simulation steps, providing insights into the dynamics of the Markov chain."
   ]
  },
  {
   "cell_type": "markdown",
   "id": "f93c13f3-d8dc-425c-b541-449bd1786366",
   "metadata": {},
   "source": [
    "## Visualization"
   ]
  },
  {
   "cell_type": "code",
   "execution_count": 54,
   "id": "cb6cbb17-e9cb-4554-a5db-89e136b30982",
   "metadata": {
    "scrolled": true,
    "vscode": {
     "languageId": "r"
    }
   },
   "outputs": [
    {
     "data": {
      "image/png": "[encoded data removed]",
      "text/plain": [
       "plot without title"
      ]
     },
     "metadata": {
      "image/png": {
       "height": 420,
       "width": 420
      }
     },
     "output_type": "display_data"
    }
   ],
   "source": [
    "simulate_markov_chain <- function(markov, steps) {\n",
    "  # Set the initial state to 0\n",
    "  current_state <- 0\n",
    "  \n",
    "  # Initialize state probabilities to 0\n",
    "  state_probabilities <- rep(0, nrow(markov))\n",
    "  \n",
    "  # Initialize the sequence with the initial state\n",
    "  sequence <- current_state\n",
    "  \n",
    "  for (i in 1:steps) {\n",
    "    # Update state probabilities\n",
    "    state_probabilities[current_state + 1] <- state_probabilities[current_state + 1] + 1\n",
    "    \n",
    "    # Draw the next state based on the transition probabilities\n",
    "    current_state <- sample(x = 0:(nrow(markov) - 1),\n",
    "                            size = 1,\n",
    "                            prob = markov[current_state + 1, ])\n",
    "    \n",
    "    # Append the new state to the sequence\n",
    "    sequence <- c(sequence, current_state)\n",
    "  }\n",
    "  \n",
    "  return(sequence)\n",
    "}\n",
    "\n",
    "# Define the transition matrix\n",
    "markov <- matrix(c(0.7, 0.2, 0.1,\n",
    "                   0.1, 0.6, 0.3,\n",
    "                   0.2, 0.3, 0.5),\n",
    "                 nrow = 3, ncol = 3, byrow = TRUE)\n",
    "\n",
    "# Number of simulation steps\n",
    "simulation_steps <- 15\n",
    "\n",
    "# Simulate Markov chain\n",
    "result <- simulate_markov_chain(markov, simulation_steps)\n",
    "\n",
    "# Create a data frame for plotting\n",
    "plot_data <- data.frame(Time = 0:(length(result) - 1), State = result)\n",
    "\n",
    "# Plot the state transition diagram\n",
    "ggplot(plot_data, aes(x = Time, y = State)) +\n",
    "  geom_line(color = \"blue\") +\n",
    "  geom_point(color = \"blue\", shape = 16) +\n",
    "  labs(title = \"State Transition Diagram\",\n",
    "       x = \"Time Step\",\n",
    "       y = \"State\") +\n",
    "  scale_x_continuous(breaks = 0:14) +\n",
    "  scale_y_continuous(breaks = 0:2) +\n",
    "  theme_minimal()"
   ]
  },
  {
   "cell_type": "markdown",
   "id": "9e2e2580-9663-4162-849c-b33d38f84d5a",
   "metadata": {},
   "source": [
    "### This is a simple Markov chain with three states over 15 time steps. Each step involves transitioning to the next state based on predefined transition probabilities. I have also plotted the results show how the system moves between states over time.\n",
    "\n"
   ]
  },
  {
   "cell_type": "code",
   "execution_count": 55,
   "id": "71941577-2f28-4a8a-b323-ff8ce03d8ea5",
   "metadata": {
    "scrolled": true,
    "vscode": {
     "languageId": "r"
    }
   },
   "outputs": [
    {
     "data": {
      "image/png": "[encoded data removed]",
      "text/plain": [
       "plot without title"
      ]
     },
     "metadata": {
      "image/png": {
       "height": 420,
       "width": 420
      }
     },
     "output_type": "display_data"
    }
   ],
   "source": [
    "markov_df <- reshape2::melt(markov)\n",
    "colnames(markov_df) <- c(\"Current_State\", \"Next_State\", \"Probability\")\n",
    "\n",
    "# Plot the heatmap\n",
    "ggplot(markov_df, aes(x = Current_State, y = Next_State, fill = Probability)) +\n",
    "  geom_tile() +\n",
    "  scale_fill_viridis_c() +\n",
    "  labs(title = \"Transition Probability Heatmap\",\n",
    "       x = \"Current State\",\n",
    "       y = \"Next State\",\n",
    "       fill = \"Probability\") +\n",
    "  scale_x_continuous(breaks = 0:2, labels = c(\"State 0\", \"State 1\", \"State 2\")) +\n",
    "  scale_y_continuous(breaks = 0:2, labels = c(\"State 0\", \"State 1\", \"State 2\")) +\n",
    "  theme_minimal()"
   ]
  },
  {
   "cell_type": "markdown",
   "id": "1eb3e17d-a60c-4566-96eb-9bb2f3bd533e",
   "metadata": {},
   "source": [
    "### I have visualized the transition probabilities of a Markov chain as a heatmap. The heatmap, where each cell color represents the transition probability from the current state to the next state. This visualization offers a clear representation of how likely transitions are between different states in the Markov chain."
   ]
  },
  {
   "cell_type": "markdown",
   "id": "c09e2bd8-e505-4b24-9970-5028188c3a9d",
   "metadata": {},
   "source": [
    "# Variance Reduction Techniques"
   ]
  },
  {
   "cell_type": "code",
   "execution_count": 56,
   "id": "9aa31164-843d-459e-a1b7-74affe43c2fb",
   "metadata": {
    "vscode": {
     "languageId": "r"
    }
   },
   "outputs": [],
   "source": [
    "# Target function\n",
    "target_function <- function(x) {\n",
    "  return(x^2)\n",
    "}\n",
    "\n",
    "# Simulation without variance reduction techniques\n",
    "simulation <- function(number_of_samples) {\n",
    "  samples <- runif(number_of_samples, min = 0, max = 1) # Simulating Uniform Random variable\n",
    "  estimates <- target_function(samples)\n",
    "  return(mean(estimates))\n",
    "}\n",
    "\n",
    "# Importance sampling\n",
    "importance_sampling <- function(number_of_samples) {\n",
    "  samples <- rnorm(number_of_samples, mean = 0.5, sd = 0.1)\n",
    "  weights <- 1 / (sqrt(2 * pi) * exp(-0.5 * (samples - 0.5)^2))\n",
    "  estimates <- target_function(samples) * weights / mean(weights)\n",
    "  return(var(estimates))\n",
    "}\n",
    "\n",
    "# Control variates\n",
    "control_variates <- function(number_of_samples) {\n",
    "  control_variate <- runif(number_of_samples, min = 0, max = 1)\n",
    "  samples <- runif(number_of_samples, min = 0, max = 1)\n",
    "  estimates <- target_function(samples) - 0.5 * (control_variate - 0.5)\n",
    "  return(var(estimates))\n",
    "}\n",
    "\n",
    "# Antithetic variates\n",
    "antithetic_variates <- function(num_samples) {\n",
    "  antithetic_samples <- c(runif(num_samples, min = 0, max = 1),\n",
    "                          1 - runif(num_samples, min = 0, max = 1))\n",
    "  estimates <- target_function(antithetic_samples)\n",
    "  return(var(estimates))\n",
    "}"
   ]
  },
  {
   "cell_type": "code",
   "execution_count": 57,
   "id": "fd89b725-56b4-4ff2-a1e4-f025ed25142c",
   "metadata": {
    "scrolled": true,
    "vscode": {
     "languageId": "r"
    }
   },
   "outputs": [
    {
     "name": "stdout",
     "output_type": "stream",
     "text": [
      "Simple Estimation: 0.337166 \n",
      "Importance Sampling Estimation: 0.01042008 \n",
      "Control Variates Estimation: 0.108539 \n",
      "Antithetic Variates Estimation: 0.08901428 \n"
     ]
    }
   ],
   "source": [
    "number_of_samples <- 10000\n",
    "\n",
    "simple_estimation <- simulation(number_of_samples)\n",
    "importance_sampling_estimation <- importance_sampling(number_of_samples)\n",
    "control_variates_estimation <- control_variates(number_of_samples)\n",
    "antithetic_variates_estimation <- antithetic_variates(number_of_samples)\n",
    "\n",
    "cat(\"Simple Estimation:\", simple_estimation, \"\\n\")\n",
    "cat(\"Importance Sampling Estimation:\", importance_sampling_estimation, \"\\n\")\n",
    "cat(\"Control Variates Estimation:\", control_variates_estimation, \"\\n\")\n",
    "cat(\"Antithetic Variates Estimation:\", antithetic_variates_estimation, \"\\n\")"
   ]
  },
  {
   "cell_type": "markdown",
   "id": "e9caf9fc-2bc5-4170-a2e5-1ef17ecae054",
   "metadata": {},
   "source": [
    "# Comparision of Different Simulation Methods"
   ]
  },
  {
   "cell_type": "code",
   "execution_count": 58,
   "id": "b7637a1c-3fd4-4abd-84ef-2c5f16d63762",
   "metadata": {
    "scrolled": true,
    "vscode": {
     "languageId": "r"
    }
   },
   "outputs": [
    {
     "data": {
      "image/png": "[encoded data removed]",
      "text/plain": [
       "plot without title"
      ]
     },
     "metadata": {
      "image/png": {
       "height": 420,
       "width": 420
      }
     },
     "output_type": "display_data"
    }
   ],
   "source": [
    "labels <- c(\"Simulation\", \"Importance Sampling\", \"Control Variates\", \"Antithetic Variates\")\n",
    "estimations <- c(simple_estimation, importance_sampling_estimation, control_variates_estimation, antithetic_variates_estimation)\n",
    "\n",
    "# Create a data frame for plotting\n",
    "plot_data <- data.frame(Technique = labels, Estimation = estimations)\n",
    "\n",
    "# Define a color palette\n",
    "colors <- brewer.pal(5, \"Spectral\")\n",
    "\n",
    "# Plot the bar chart\n",
    "ggplot(plot_data, aes(x = Technique, y = Estimation, fill = Technique)) +\n",
    "  geom_bar(stat = \"identity\", color = \"black\") +\n",
    "  labs(title = \"Comparison of Variance Reduction Techniques\",\n",
    "       x = \"\",\n",
    "       y = \"Variance Estimation\") +\n",
    "  scale_fill_manual(values = colors) +\n",
    "  theme_minimal() +\n",
    "  theme(axis.text.x = element_text(angle = 45, hjust = 1))"
   ]
  },
  {
   "cell_type": "markdown",
   "id": "d5c3a9d0-21f3-4fcd-8952-81c6f10b4ca9",
   "metadata": {},
   "source": [
    "`importance_sampling` applies importance sampling, using normally distributed samples centered around 0.5 as importance weights to enhance estimation precision.\n",
    "\n",
    "`control_variates` employs control variates, where a related random variable's value (also uniformly distributed) is subtracted from each sample to reduce variance.\n",
    "\n",
    "`antithetic_variates` generates antithetic variates by pairing uniform random samples with their complements to exploit the symmetry of the function and mitigate variance.\n",
    "\n",
    "`simulation` performs a straightforward simulation without any variance reduction techniques by generating uniform random samples and averaging the function values.\n",
    "\n",
    "Finally, The results are plotted to compare the different variance reduction techniques."
   ]
  },
  {
   "cell_type": "markdown",
   "id": "cc0eae18-4dab-4180-9d18-4d4bbab741f7",
   "metadata": {},
   "source": [
    "# Simulation for Combinatorial Analysis"
   ]
  },
  {
   "cell_type": "code",
   "execution_count": 59,
   "id": "b9a3b5f6-19b1-45e8-9e20-9e3ab5b06681",
   "metadata": {
    "vscode": {
     "languageId": "r"
    }
   },
   "outputs": [
    {
     "data": {
      "image/png": "[encoded data removed]",
      "text/plain": [
       "plot without title"
      ]
     },
     "metadata": {
      "image/png": {
       "height": 420,
       "width": 420
      }
     },
     "output_type": "display_data"
    }
   ],
   "source": [
    "no_of_simulations <- 10000\n",
    "\n",
    "# Roll two dice\n",
    "rolls <- matrix(sample(1:6, no_of_simulations * 2, replace = TRUE), ncol = 2)\n",
    "\n",
    "# Calculate the sum of the two dice\n",
    "sums <- rowSums(rolls)\n",
    "\n",
    "target_sums <- c(2, 4, 7, 10, 12)\n",
    "\n",
    "# Calculate the occurrences of target sums\n",
    "occur_target_sums <- sapply(target_sums, function(target_sum) sum(sums == target_sum))\n",
    "\n",
    "# Calculate the probabilities for each target sum\n",
    "probabilities <- occur_target_sums / no_of_simulations\n",
    "\n",
    "# Create a data frame for plotting\n",
    "plot_data <- data.frame(\n",
    "  Target_Sum = target_sums,\n",
    "  Probability = probabilities\n",
    ")\n",
    "\n",
    "# Define a color palette\n",
    "colors <- brewer.pal(length(target_sums), \"Spectral\")\n",
    "\n",
    "# Plot the bar chart\n",
    "ggplot(plot_data, aes(x = Target_Sum, y = Probability, fill = factor(Target_Sum))) +\n",
    "  geom_bar(stat = \"identity\", color = \"black\") +\n",
    "  labs(title = \"Probability of Different Target Sums\",\n",
    "       x = \"Target Sum\",\n",
    "       y = \"Probability\") +\n",
    "  scale_fill_manual(values = colors) +\n",
    "  theme_minimal()"
   ]
  },
  {
   "cell_type": "markdown",
   "id": "5faa946c-98d3-4644-ad0c-0d8fc16a8a40",
   "metadata": {},
   "source": [
    "# Real Data Analysis "
   ]
  },
  {
   "cell_type": "markdown",
   "id": "6465cfb3-1d3f-4126-9c61-5dfd77bf8cad",
   "metadata": {},
   "source": [
    "## Bayes Theorem"
   ]
  },
  {
   "cell_type": "markdown",
   "id": "d985b16e-8880-4997-8daf-590ddecfd74c",
   "metadata": {},
   "source": [
    "### Bayes' theorem is a fundamental concept in probability theory and statistics, It relates the conditional probabilities of two events, allowing us to calculate the probability of one event given the occurrence of another event."
   ]
  },
  {
   "cell_type": "markdown",
   "id": "63912533-2aed-49fe-aec8-7cff08014f24",
   "metadata": {},
   "source": [
    "#### Here we have a dataset and we are going to focus on two variables here.\n",
    "#### tips -> This contains data of the Tips given by passengers to Taxi drivers in Chicago\n",
    "#### daytype -> This contains data of day being Weekday or Weekend."
   ]
  },
  {
   "cell_type": "markdown",
   "id": "129e8be3-0584-45a8-9464-4930486c42fb",
   "metadata": {},
   "source": [
    "#### Our Research question is to find out if Passengers Tip High amount given that It is a weekend. We will use Bayes's Theorem to find out the Probability of this. "
   ]
  },
  {
   "cell_type": "markdown",
   "id": "6425b355-82bf-4122-a6cc-541c5df15844",
   "metadata": {},
   "source": [
    "- Here, we first load the dataset to an object."
   ]
  },
  {
   "cell_type": "code",
   "execution_count": 60,
   "id": "909b1c15-177f-4d18-b24e-9ef996ec9923",
   "metadata": {
    "vscode": {
     "languageId": "r"
    }
   },
   "outputs": [
    {
     "data": {
      "text/html": [
       "<table class=\"dataframe\">\n",
       "<caption>A tibble: 6 × 8</caption>\n",
       "<thead>\n",
       "\t<tr><th scope=col>date</th><th scope=col>daytype</th><th scope=col>seconds</th><th scope=col>miles</th><th scope=col>tips</th><th scope=col>total</th><th scope=col>payment_type</th><th scope=col>speed</th></tr>\n",
       "\t<tr><th scope=col>&lt;dttm&gt;</th><th scope=col>&lt;chr&gt;</th><th scope=col>&lt;dbl&gt;</th><th scope=col>&lt;dbl&gt;</th><th scope=col>&lt;dbl&gt;</th><th scope=col>&lt;dbl&gt;</th><th scope=col>&lt;chr&gt;</th><th scope=col>&lt;dbl&gt;</th></tr>\n",
       "</thead>\n",
       "<tbody>\n",
       "\t<tr><td>2019-09-09</td><td>weekday</td><td> 601</td><td>1.56</td><td>2</td><td>10.25</td><td>Credit</td><td> 9.344426</td></tr>\n",
       "\t<tr><td>2019-08-29</td><td>weekday</td><td> 346</td><td>0.73</td><td>2</td><td> 8.25</td><td>Credit</td><td> 7.595376</td></tr>\n",
       "\t<tr><td>2019-02-22</td><td>weekend</td><td> 931</td><td>3.29</td><td>0</td><td>13.75</td><td>Cash  </td><td>12.721805</td></tr>\n",
       "\t<tr><td>2019-05-30</td><td>weekday</td><td> 252</td><td>0.70</td><td>0</td><td> 5.25</td><td>Cash  </td><td>10.000000</td></tr>\n",
       "\t<tr><td>2019-07-21</td><td>weekday</td><td> 393</td><td>1.12</td><td>0</td><td> 7.25</td><td>Cash  </td><td>10.259542</td></tr>\n",
       "\t<tr><td>2019-11-30</td><td>weekend</td><td>1320</td><td>1.10</td><td>1</td><td>46.25</td><td>Credit</td><td> 3.000000</td></tr>\n",
       "</tbody>\n",
       "</table>\n"
      ],
      "text/latex": [
       "A tibble: 6 × 8\n",
       "\\begin{tabular}{llllllll}\n",
       " date & daytype & seconds & miles & tips & total & payment\\_type & speed\\\\\n",
       " <dttm> & <chr> & <dbl> & <dbl> & <dbl> & <dbl> & <chr> & <dbl>\\\\\n",
       "\\hline\n",
       "\t 2019-09-09 & weekday &  601 & 1.56 & 2 & 10.25 & Credit &  9.344426\\\\\n",
       "\t 2019-08-29 & weekday &  346 & 0.73 & 2 &  8.25 & Credit &  7.595376\\\\\n",
       "\t 2019-02-22 & weekend &  931 & 3.29 & 0 & 13.75 & Cash   & 12.721805\\\\\n",
       "\t 2019-05-30 & weekday &  252 & 0.70 & 0 &  5.25 & Cash   & 10.000000\\\\\n",
       "\t 2019-07-21 & weekday &  393 & 1.12 & 0 &  7.25 & Cash   & 10.259542\\\\\n",
       "\t 2019-11-30 & weekend & 1320 & 1.10 & 1 & 46.25 & Credit &  3.000000\\\\\n",
       "\\end{tabular}\n"
      ],
      "text/markdown": [
       "\n",
       "A tibble: 6 × 8\n",
       "\n",
       "| date &lt;dttm&gt; | daytype &lt;chr&gt; | seconds &lt;dbl&gt; | miles &lt;dbl&gt; | tips &lt;dbl&gt; | total &lt;dbl&gt; | payment_type &lt;chr&gt; | speed &lt;dbl&gt; |\n",
       "|---|---|---|---|---|---|---|---|\n",
       "| 2019-09-09 | weekday |  601 | 1.56 | 2 | 10.25 | Credit |  9.344426 |\n",
       "| 2019-08-29 | weekday |  346 | 0.73 | 2 |  8.25 | Credit |  7.595376 |\n",
       "| 2019-02-22 | weekend |  931 | 3.29 | 0 | 13.75 | Cash   | 12.721805 |\n",
       "| 2019-05-30 | weekday |  252 | 0.70 | 0 |  5.25 | Cash   | 10.000000 |\n",
       "| 2019-07-21 | weekday |  393 | 1.12 | 0 |  7.25 | Cash   | 10.259542 |\n",
       "| 2019-11-30 | weekend | 1320 | 1.10 | 1 | 46.25 | Credit |  3.000000 |\n",
       "\n"
      ],
      "text/plain": [
       "  date       daytype seconds miles tips total payment_type speed    \n",
       "1 2019-09-09 weekday  601    1.56  2    10.25 Credit        9.344426\n",
       "2 2019-08-29 weekday  346    0.73  2     8.25 Credit        7.595376\n",
       "3 2019-02-22 weekend  931    3.29  0    13.75 Cash         12.721805\n",
       "4 2019-05-30 weekday  252    0.70  0     5.25 Cash         10.000000\n",
       "5 2019-07-21 weekday  393    1.12  0     7.25 Cash         10.259542\n",
       "6 2019-11-30 weekend 1320    1.10  1    46.25 Credit        3.000000"
      ]
     },
     "metadata": {},
     "output_type": "display_data"
    }
   ],
   "source": [
    "chicago_cab <- read_xlsx('datasets/chicago_taxi.xlsx')\n",
    "head(chicago_cab)"
   ]
  },
  {
   "cell_type": "code",
   "execution_count": 61,
   "id": "4859f399-bfec-440b-ba87-c79d4e5f2f75",
   "metadata": {
    "vscode": {
     "languageId": "r"
    }
   },
   "outputs": [],
   "source": [
    "categorize_tips <- function(tips) {\n",
    "    median_tip <- median(tips, na.rm = TRUE)\n",
    "    categories <- ifelse(tips > median_tip, \"High\", \"Low\")\n",
    "    return(categories)\n",
    "}\n",
    "# Apply the function to categorize tips\n",
    "tip_bin <- data.frame(tips=categorize_tips(chicago_cab$tips))\n",
    "tip_bin <- ifelse(tip_bin$tips == \"High\",1,0)\n",
    "daytype_bin <- ifelse(chicago_cab$daytype == 'weekday', 0, 1)"
   ]
  },
  {
   "cell_type": "markdown",
   "id": "67fd42d1-3c26-462d-80f8-8aa2d70ca848",
   "metadata": {},
   "source": [
    "- The tips data is numerical, In order to make it useful in bayes theorem we will categorize the tips into High and low. Then, I have converted them into binary where\n",
    "- High tip given is assigned '1' and Low Tip given is assigned '0'\n",
    "- I have also categorized daytype Weekday or weekend as '0' and '1' respectively."
   ]
  },
  {
   "cell_type": "code",
   "execution_count": 62,
   "id": "539260de-722f-4546-b22f-31547fb5fc5f",
   "metadata": {
    "vscode": {
     "languageId": "r"
    }
   },
   "outputs": [
    {
     "data": {
      "text/plain": [
       "   Min. 1st Qu.  Median    Mean 3rd Qu.    Max. \n",
       "  0.000   0.000   0.000   1.985   2.600  58.100 "
      ]
     },
     "metadata": {},
     "output_type": "display_data"
    }
   ],
   "source": [
    "chicago_data <- data.frame(chicago_cab,daytype_bin,tip_bin)\n",
    "summary(chicago_data$tips)"
   ]
  },
  {
   "cell_type": "markdown",
   "id": "16fe78d8-73b1-44cf-91a1-a4b485b749e8",
   "metadata": {},
   "source": [
    "#### Now we apply Bayes's formula\n",
    "\n",
    "P(A|B) = (P(B|A) * P(A)) / P(B)\n",
    "\n",
    "P(A|B) is the conditional probability of event A occurring given that event B has occurred (posterior probability\n",
    ".\n",
    "P(B|A) is the conditional probability of event B occurring given that event A has occurred (likelihoo\n",
    ").\n",
    "P(A) is the prior probability of event A occurring before considering even\n",
    " B.\n",
    "P(B) is the probability of event B occurring."
   ]
  },
  {
   "cell_type": "code",
   "execution_count": 63,
   "id": "9d703f51-b90c-4529-a743-d3d794e7d837",
   "metadata": {
    "vscode": {
     "languageId": "r"
    }
   },
   "outputs": [],
   "source": [
    "tip <- chicago_data$tip_bin\n",
    "day <- chicago_data$daytype_bin\n",
    "\n",
    "#P(A)\n",
    "prob_a <- sum(tip == 1) / nrow(chicago_data)\n",
    "#P(B)\n",
    "prob_b <- sum(day == 1) / nrow(chicago_data)\n",
    "\n",
    "#P(B|A)\n",
    "prob_b_given_a <- sum(day[tip == 1] == 1) / sum(tip == 1)\n",
    "#P(A|B) Bayes Theorem\n",
    "prob_a_given_b <- (prob_b_given_a * prob_a) / prob_b"
   ]
  },
  {
   "cell_type": "markdown",
   "id": "c53f3a94-0ec3-4df4-9b8b-6be325a55058",
   "metadata": {},
   "source": [
    "#### prob_a: The prior probability of getting a high tip.\n",
    "#### prob_b: The probability of it being a weekend day.\n",
    "#### prob_b_given_a: The probability of it being a weekend day, given that a high tip was received.\n",
    "#### I used Bayes' Theorem to calculate prob_a_given_b, which is the probability of getting a high tip, given that it is a weekend day. The formula is:\n",
    "#### prob_a_given_b = (prob_b_given_a * prob_a) / prob_b"
   ]
  },
  {
   "cell_type": "code",
   "execution_count": 64,
   "id": "1cd94c76-4386-41e8-9bfc-5f4b2378d1f5",
   "metadata": {
    "vscode": {
     "languageId": "r"
    }
   },
   "outputs": [
    {
     "name": "stdout",
     "output_type": "stream",
     "text": [
      "46 %"
     ]
    }
   ],
   "source": [
    "cat(round(prob_a_given_b,2) * 100,'%') # output of the probability"
   ]
  },
  {
   "cell_type": "markdown",
   "id": "c0a58ddc-5ce4-4e13-8539-a49c710b0e6c",
   "metadata": {},
   "source": [
    "### The answer to our research question that Do Taxi Drivers get tipped more by a passenger during a weekend?\n",
    "### Answer: The probability  of High tips given it is a weekend is: 46 percent."
   ]
  },
  {
   "cell_type": "markdown",
   "id": "5a005f3e-0447-4962-87dc-b28434f3232a",
   "metadata": {},
   "source": [
    "## Joint Distribution Analysis"
   ]
  },
  {
   "cell_type": "code",
   "execution_count": 65,
   "id": "6d8c9290-9ab7-411e-aa7f-47a0d6765892",
   "metadata": {
    "scrolled": true,
    "vscode": {
     "languageId": "r"
    }
   },
   "outputs": [
    {
     "data": {
      "text/html": [
       "<table class=\"dataframe\">\n",
       "<caption>A matrix: 2 × 2 of type dbl</caption>\n",
       "<thead>\n",
       "\t<tr><th></th><th scope=col>chicago_data.daytype_bin</th><th scope=col>chicago_data.tip_bin</th></tr>\n",
       "</thead>\n",
       "<tbody>\n",
       "\t<tr><th scope=row>chicago_data.daytype_bin</th><td> 1.00000000</td><td>-0.04006053</td></tr>\n",
       "\t<tr><th scope=row>chicago_data.tip_bin</th><td>-0.04006053</td><td> 1.00000000</td></tr>\n",
       "</tbody>\n",
       "</table>\n"
      ],
      "text/latex": [
       "A matrix: 2 × 2 of type dbl\n",
       "\\begin{tabular}{r|ll}\n",
       "  & chicago\\_data.daytype\\_bin & chicago\\_data.tip\\_bin\\\\\n",
       "\\hline\n",
       "\tchicago\\_data.daytype\\_bin &  1.00000000 & -0.04006053\\\\\n",
       "\tchicago\\_data.tip\\_bin & -0.04006053 &  1.00000000\\\\\n",
       "\\end{tabular}\n"
      ],
      "text/markdown": [
       "\n",
       "A matrix: 2 × 2 of type dbl\n",
       "\n",
       "| <!--/--> | chicago_data.daytype_bin | chicago_data.tip_bin |\n",
       "|---|---|---|\n",
       "| chicago_data.daytype_bin |  1.00000000 | -0.04006053 |\n",
       "| chicago_data.tip_bin | -0.04006053 |  1.00000000 |\n",
       "\n"
      ],
      "text/plain": [
       "                         chicago_data.daytype_bin chicago_data.tip_bin\n",
       "chicago_data.daytype_bin  1.00000000              -0.04006053         \n",
       "chicago_data.tip_bin     -0.04006053               1.00000000         "
      ]
     },
     "metadata": {},
     "output_type": "display_data"
    }
   ],
   "source": [
    "cor(data.frame(chicago_data$daytype_bin,chicago_data$tip_bin))"
   ]
  },
  {
   "cell_type": "markdown",
   "id": "cca708ff-6939-4d56-a9b3-0b873b8040a0",
   "metadata": {},
   "source": [
    "#### The correlation coefficient of -0.04006053 suggests a very weak negative linear relationship between daytype_bin and tip_bin. This means that as the values of one variable increase, the values of the other variable tend to decrease slightly, but the relationship is quite weak."
   ]
  },
  {
   "cell_type": "code",
   "execution_count": 66,
   "id": "cd4c4b2c-6a72-4769-8e7e-8bdd76d4f240",
   "metadata": {
    "vscode": {
     "languageId": "r"
    }
   },
   "outputs": [
    {
     "name": "stdout",
     "output_type": "stream",
     "text": [
      "   \n",
      "            0         1\n",
      "  0 0.3557560 0.3608775\n",
      "  1 0.1532640 0.1301024\n"
     ]
    }
   ],
   "source": [
    "joint_table <- table(chicago_data$daytype_bin, chicago_data$tip_bin)\n",
    "joint_matrix <- as.matrix(joint_table)\n",
    "joint_probabilities <- joint_matrix / sum(joint_matrix)\n",
    "print(joint_probabilities)"
   ]
  },
  {
   "cell_type": "markdown",
   "id": "d61511f3-b587-4d6e-92bf-7ffa20c0da83",
   "metadata": {},
   "source": [
    "- The probability of daytype_bin being 0 and tip_bin being 0 is 0.3557560.\n",
    "- The probability of daytype_bin being 0 and tip_bin being 1 is 0.3608775.\n",
    "- The probability of daytype_bin being 1 and tip_bin being 0 is 0.1532640.\n",
    "- The probability of daytype_bin being 1 and tip_bin being 1 is 0.1301024.\n",
    "\n"
   ]
  },
  {
   "cell_type": "code",
   "execution_count": 67,
   "id": "60ad9512-876b-4aae-b877-440cc460e805",
   "metadata": {
    "vscode": {
     "languageId": "r"
    }
   },
   "outputs": [
    {
     "data": {
      "text/html": [
       "0.9999999"
      ],
      "text/latex": [
       "0.9999999"
      ],
      "text/markdown": [
       "0.9999999"
      ],
      "text/plain": [
       "[1] 0.9999999"
      ]
     },
     "metadata": {},
     "output_type": "display_data"
    }
   ],
   "source": [
    "0.3557560+0.3608775+0.1532640+0.1301024"
   ]
  },
  {
   "cell_type": "markdown",
   "id": "bb95d799-7737-443a-81b4-184e7cb656ad",
   "metadata": {},
   "source": [
    "- The sum of all probabilities in the matrix is 0.9999999 (due to rounding), which is approximately 1, as expected for a valid joint probability distribution."
   ]
  },
  {
   "cell_type": "markdown",
   "id": "3a02560b-5a56-4c5e-8ed1-15988a880078",
   "metadata": {},
   "source": [
    "## Factor Analysis"
   ]
  },
  {
   "cell_type": "markdown",
   "id": "80d0a270-da44-4bbb-acf3-5e4ce3a8e4fb",
   "metadata": {},
   "source": [
    "### Factor analysis is a statistical method used to describe variability among observed, correlated variables potentially lower the number of variables called factors."
   ]
  },
  {
   "cell_type": "code",
   "execution_count": 68,
   "id": "29bab6b6-bb61-4378-80cb-4904e1f0a673",
   "metadata": {
    "vscode": {
     "languageId": "r"
    }
   },
   "outputs": [],
   "source": [
    "ptech <- read.csv('datasets/ptechdata.csv')\n",
    "\n",
    "# Lets split the data and remove the id variable\n",
    "pdat1 <- ptech[ptech$id==1,-1] \n",
    "pdat2 <- ptech[ptech$id==2,-1]"
   ]
  },
  {
   "cell_type": "markdown",
   "id": "3bda2fd7-9b0b-43f5-bfa6-49cf22dbbac3",
   "metadata": {},
   "source": [
    "- We first import the dataset and There are 2 samples in the data - designated by `id`. We split the data into two sample and then remove the id variable.\n",
    "- Lets have a quick look at the first sample and the descriptives of the data."
   ]
  },
  {
   "cell_type": "code",
   "execution_count": 69,
   "id": "84d5be20-39da-4c1b-93cd-e280c98217ba",
   "metadata": {
    "vscode": {
     "languageId": "r"
    }
   },
   "outputs": [
    {
     "data": {
      "text/html": [
       "<table class=\"dataframe\">\n",
       "<caption>A data.frame: 10 × 9</caption>\n",
       "<thead>\n",
       "\t<tr><th></th><th scope=col>v1</th><th scope=col>v2</th><th scope=col>v3</th><th scope=col>v4</th><th scope=col>v5</th><th scope=col>v6</th><th scope=col>v7</th><th scope=col>v8</th><th scope=col>v9</th></tr>\n",
       "\t<tr><th></th><th scope=col>&lt;dbl&gt;</th><th scope=col>&lt;dbl&gt;</th><th scope=col>&lt;dbl&gt;</th><th scope=col>&lt;dbl&gt;</th><th scope=col>&lt;dbl&gt;</th><th scope=col>&lt;dbl&gt;</th><th scope=col>&lt;dbl&gt;</th><th scope=col>&lt;dbl&gt;</th><th scope=col>&lt;dbl&gt;</th></tr>\n",
       "</thead>\n",
       "<tbody>\n",
       "\t<tr><th scope=row>1</th><td>-0.84</td><td>-0.27</td><td>-0.59</td><td>-0.97</td><td>-0.72</td><td>-1.86</td><td> 1.11</td><td> 0.46</td><td> 0.09</td></tr>\n",
       "\t<tr><th scope=row>2</th><td>-0.04</td><td>-0.33</td><td>-0.54</td><td> 2.57</td><td> 1.30</td><td> 0.59</td><td> 1.42</td><td> 2.56</td><td> 0.66</td></tr>\n",
       "\t<tr><th scope=row>3</th><td> 0.34</td><td>-0.23</td><td> 0.99</td><td>-1.84</td><td>-1.62</td><td>-1.55</td><td> 1.05</td><td> 0.22</td><td> 0.60</td></tr>\n",
       "\t<tr><th scope=row>4</th><td>-1.01</td><td>-1.96</td><td>-1.17</td><td>-2.93</td><td>-1.75</td><td>-1.89</td><td>-0.51</td><td>-0.07</td><td> 1.14</td></tr>\n",
       "\t<tr><th scope=row>5</th><td> 2.02</td><td> 0.21</td><td> 0.97</td><td> 0.13</td><td>-0.01</td><td>-0.88</td><td>-1.22</td><td> 0.54</td><td>-0.28</td></tr>\n",
       "\t<tr><th scope=row>6</th><td>-0.24</td><td>-0.19</td><td> 0.23</td><td> 0.80</td><td> 1.06</td><td> 1.61</td><td> 1.31</td><td>-1.10</td><td> 0.26</td></tr>\n",
       "\t<tr><th scope=row>7</th><td>-0.61</td><td>-1.37</td><td> 0.15</td><td>-0.68</td><td>-1.50</td><td>-0.44</td><td>-1.63</td><td> 1.40</td><td> 1.79</td></tr>\n",
       "\t<tr><th scope=row>8</th><td>-1.26</td><td>-2.59</td><td>-1.10</td><td>-0.40</td><td>-0.66</td><td> 0.29</td><td>-1.45</td><td>-1.06</td><td> 0.15</td></tr>\n",
       "\t<tr><th scope=row>9</th><td> 0.23</td><td> 0.25</td><td>-0.21</td><td> 0.23</td><td>-0.42</td><td> 1.01</td><td> 0.15</td><td> 1.16</td><td>-0.36</td></tr>\n",
       "\t<tr><th scope=row>10</th><td> 1.01</td><td>-0.08</td><td> 1.95</td><td> 1.14</td><td>-0.06</td><td>-0.48</td><td>-0.62</td><td>-1.27</td><td>-0.08</td></tr>\n",
       "</tbody>\n",
       "</table>\n"
      ],
      "text/latex": [
       "A data.frame: 10 × 9\n",
       "\\begin{tabular}{r|lllllllll}\n",
       "  & v1 & v2 & v3 & v4 & v5 & v6 & v7 & v8 & v9\\\\\n",
       "  & <dbl> & <dbl> & <dbl> & <dbl> & <dbl> & <dbl> & <dbl> & <dbl> & <dbl>\\\\\n",
       "\\hline\n",
       "\t1 & -0.84 & -0.27 & -0.59 & -0.97 & -0.72 & -1.86 &  1.11 &  0.46 &  0.09\\\\\n",
       "\t2 & -0.04 & -0.33 & -0.54 &  2.57 &  1.30 &  0.59 &  1.42 &  2.56 &  0.66\\\\\n",
       "\t3 &  0.34 & -0.23 &  0.99 & -1.84 & -1.62 & -1.55 &  1.05 &  0.22 &  0.60\\\\\n",
       "\t4 & -1.01 & -1.96 & -1.17 & -2.93 & -1.75 & -1.89 & -0.51 & -0.07 &  1.14\\\\\n",
       "\t5 &  2.02 &  0.21 &  0.97 &  0.13 & -0.01 & -0.88 & -1.22 &  0.54 & -0.28\\\\\n",
       "\t6 & -0.24 & -0.19 &  0.23 &  0.80 &  1.06 &  1.61 &  1.31 & -1.10 &  0.26\\\\\n",
       "\t7 & -0.61 & -1.37 &  0.15 & -0.68 & -1.50 & -0.44 & -1.63 &  1.40 &  1.79\\\\\n",
       "\t8 & -1.26 & -2.59 & -1.10 & -0.40 & -0.66 &  0.29 & -1.45 & -1.06 &  0.15\\\\\n",
       "\t9 &  0.23 &  0.25 & -0.21 &  0.23 & -0.42 &  1.01 &  0.15 &  1.16 & -0.36\\\\\n",
       "\t10 &  1.01 & -0.08 &  1.95 &  1.14 & -0.06 & -0.48 & -0.62 & -1.27 & -0.08\\\\\n",
       "\\end{tabular}\n"
      ],
      "text/markdown": [
       "\n",
       "A data.frame: 10 × 9\n",
       "\n",
       "| <!--/--> | v1 &lt;dbl&gt; | v2 &lt;dbl&gt; | v3 &lt;dbl&gt; | v4 &lt;dbl&gt; | v5 &lt;dbl&gt; | v6 &lt;dbl&gt; | v7 &lt;dbl&gt; | v8 &lt;dbl&gt; | v9 &lt;dbl&gt; |\n",
       "|---|---|---|---|---|---|---|---|---|---|\n",
       "| 1 | -0.84 | -0.27 | -0.59 | -0.97 | -0.72 | -1.86 |  1.11 |  0.46 |  0.09 |\n",
       "| 2 | -0.04 | -0.33 | -0.54 |  2.57 |  1.30 |  0.59 |  1.42 |  2.56 |  0.66 |\n",
       "| 3 |  0.34 | -0.23 |  0.99 | -1.84 | -1.62 | -1.55 |  1.05 |  0.22 |  0.60 |\n",
       "| 4 | -1.01 | -1.96 | -1.17 | -2.93 | -1.75 | -1.89 | -0.51 | -0.07 |  1.14 |\n",
       "| 5 |  2.02 |  0.21 |  0.97 |  0.13 | -0.01 | -0.88 | -1.22 |  0.54 | -0.28 |\n",
       "| 6 | -0.24 | -0.19 |  0.23 |  0.80 |  1.06 |  1.61 |  1.31 | -1.10 |  0.26 |\n",
       "| 7 | -0.61 | -1.37 |  0.15 | -0.68 | -1.50 | -0.44 | -1.63 |  1.40 |  1.79 |\n",
       "| 8 | -1.26 | -2.59 | -1.10 | -0.40 | -0.66 |  0.29 | -1.45 | -1.06 |  0.15 |\n",
       "| 9 |  0.23 |  0.25 | -0.21 |  0.23 | -0.42 |  1.01 |  0.15 |  1.16 | -0.36 |\n",
       "| 10 |  1.01 | -0.08 |  1.95 |  1.14 | -0.06 | -0.48 | -0.62 | -1.27 | -0.08 |\n",
       "\n"
      ],
      "text/plain": [
       "   v1    v2    v3    v4    v5    v6    v7    v8    v9   \n",
       "1  -0.84 -0.27 -0.59 -0.97 -0.72 -1.86  1.11  0.46  0.09\n",
       "2  -0.04 -0.33 -0.54  2.57  1.30  0.59  1.42  2.56  0.66\n",
       "3   0.34 -0.23  0.99 -1.84 -1.62 -1.55  1.05  0.22  0.60\n",
       "4  -1.01 -1.96 -1.17 -2.93 -1.75 -1.89 -0.51 -0.07  1.14\n",
       "5   2.02  0.21  0.97  0.13 -0.01 -0.88 -1.22  0.54 -0.28\n",
       "6  -0.24 -0.19  0.23  0.80  1.06  1.61  1.31 -1.10  0.26\n",
       "7  -0.61 -1.37  0.15 -0.68 -1.50 -0.44 -1.63  1.40  1.79\n",
       "8  -1.26 -2.59 -1.10 -0.40 -0.66  0.29 -1.45 -1.06  0.15\n",
       "9   0.23  0.25 -0.21  0.23 -0.42  1.01  0.15  1.16 -0.36\n",
       "10  1.01 -0.08  1.95  1.14 -0.06 -0.48 -0.62 -1.27 -0.08"
      ]
     },
     "metadata": {},
     "output_type": "display_data"
    }
   ],
   "source": [
    "head(pdat1,10)"
   ]
  },
  {
   "cell_type": "code",
   "execution_count": 70,
   "id": "00945a7a-8b60-42cd-83e2-fba12444f8fb",
   "metadata": {
    "scrolled": true,
    "vscode": {
     "languageId": "r"
    }
   },
   "outputs": [
    {
     "data": {
      "text/html": [
       "<table class=\"dataframe\">\n",
       "<caption>A psych: 9 × 13</caption>\n",
       "<thead>\n",
       "\t<tr><th></th><th scope=col>vars</th><th scope=col>n</th><th scope=col>mean</th><th scope=col>sd</th><th scope=col>median</th><th scope=col>trimmed</th><th scope=col>mad</th><th scope=col>min</th><th scope=col>max</th><th scope=col>range</th><th scope=col>skew</th><th scope=col>kurtosis</th><th scope=col>se</th></tr>\n",
       "\t<tr><th></th><th scope=col>&lt;int&gt;</th><th scope=col>&lt;dbl&gt;</th><th scope=col>&lt;dbl&gt;</th><th scope=col>&lt;dbl&gt;</th><th scope=col>&lt;dbl&gt;</th><th scope=col>&lt;dbl&gt;</th><th scope=col>&lt;dbl&gt;</th><th scope=col>&lt;dbl&gt;</th><th scope=col>&lt;dbl&gt;</th><th scope=col>&lt;dbl&gt;</th><th scope=col>&lt;dbl&gt;</th><th scope=col>&lt;dbl&gt;</th><th scope=col>&lt;dbl&gt;</th></tr>\n",
       "</thead>\n",
       "<tbody>\n",
       "\t<tr><th scope=row>v1</th><td>1</td><td>100</td><td> 0.0036</td><td>0.9515416</td><td> 0.025</td><td>-0.002250</td><td>0.956277</td><td>-2.33</td><td>2.44</td><td>4.77</td><td> 0.03563877</td><td>-0.4140241</td><td>0.09515416</td></tr>\n",
       "\t<tr><th scope=row>v2</th><td>2</td><td>100</td><td>-0.1402</td><td>0.9681597</td><td>-0.110</td><td>-0.115000</td><td>0.896973</td><td>-2.59</td><td>2.07</td><td>4.66</td><td>-0.21388345</td><td>-0.2137232</td><td>0.09681597</td></tr>\n",
       "\t<tr><th scope=row>v3</th><td>3</td><td>100</td><td> 0.0424</td><td>0.9120153</td><td> 0.090</td><td> 0.084125</td><td>0.904386</td><td>-3.11</td><td>2.10</td><td>5.21</td><td>-0.45970256</td><td> 0.7226742</td><td>0.09120153</td></tr>\n",
       "\t<tr><th scope=row>v4</th><td>4</td><td>100</td><td>-0.1316</td><td>0.9340265</td><td>-0.055</td><td>-0.113750</td><td>0.926625</td><td>-2.93</td><td>2.57</td><td>5.50</td><td>-0.15086419</td><td> 0.2136506</td><td>0.09340265</td></tr>\n",
       "\t<tr><th scope=row>v5</th><td>5</td><td>100</td><td>-0.1780</td><td>0.8548070</td><td>-0.290</td><td>-0.199125</td><td>0.830256</td><td>-2.04</td><td>1.75</td><td>3.79</td><td> 0.25400184</td><td>-0.3133523</td><td>0.08548070</td></tr>\n",
       "\t<tr><th scope=row>v6</th><td>6</td><td>100</td><td>-0.0135</td><td>0.9769189</td><td> 0.065</td><td> 0.011250</td><td>0.808017</td><td>-2.37</td><td>2.24</td><td>4.61</td><td>-0.20725618</td><td>-0.3375794</td><td>0.09769189</td></tr>\n",
       "\t<tr><th scope=row>v7</th><td>7</td><td>100</td><td> 0.1181</td><td>0.9389923</td><td> 0.125</td><td> 0.116375</td><td>1.015581</td><td>-1.91</td><td>2.14</td><td>4.05</td><td> 0.03791245</td><td>-0.6766951</td><td>0.09389923</td></tr>\n",
       "\t<tr><th scope=row>v8</th><td>8</td><td>100</td><td>-0.0282</td><td>1.0353006</td><td> 0.000</td><td>-0.026125</td><td>0.926625</td><td>-2.58</td><td>2.56</td><td>5.14</td><td>-0.05226551</td><td>-0.3196236</td><td>0.10353006</td></tr>\n",
       "\t<tr><th scope=row>v9</th><td>9</td><td>100</td><td> 0.1657</td><td>0.9594582</td><td> 0.265</td><td> 0.181125</td><td>0.934038</td><td>-2.54</td><td>2.47</td><td>5.01</td><td>-0.19595994</td><td>-0.1689990</td><td>0.09594582</td></tr>\n",
       "</tbody>\n",
       "</table>\n"
      ],
      "text/latex": [
       "A psych: 9 × 13\n",
       "\\begin{tabular}{r|lllllllllllll}\n",
       "  & vars & n & mean & sd & median & trimmed & mad & min & max & range & skew & kurtosis & se\\\\\n",
       "  & <int> & <dbl> & <dbl> & <dbl> & <dbl> & <dbl> & <dbl> & <dbl> & <dbl> & <dbl> & <dbl> & <dbl> & <dbl>\\\\\n",
       "\\hline\n",
       "\tv1 & 1 & 100 &  0.0036 & 0.9515416 &  0.025 & -0.002250 & 0.956277 & -2.33 & 2.44 & 4.77 &  0.03563877 & -0.4140241 & 0.09515416\\\\\n",
       "\tv2 & 2 & 100 & -0.1402 & 0.9681597 & -0.110 & -0.115000 & 0.896973 & -2.59 & 2.07 & 4.66 & -0.21388345 & -0.2137232 & 0.09681597\\\\\n",
       "\tv3 & 3 & 100 &  0.0424 & 0.9120153 &  0.090 &  0.084125 & 0.904386 & -3.11 & 2.10 & 5.21 & -0.45970256 &  0.7226742 & 0.09120153\\\\\n",
       "\tv4 & 4 & 100 & -0.1316 & 0.9340265 & -0.055 & -0.113750 & 0.926625 & -2.93 & 2.57 & 5.50 & -0.15086419 &  0.2136506 & 0.09340265\\\\\n",
       "\tv5 & 5 & 100 & -0.1780 & 0.8548070 & -0.290 & -0.199125 & 0.830256 & -2.04 & 1.75 & 3.79 &  0.25400184 & -0.3133523 & 0.08548070\\\\\n",
       "\tv6 & 6 & 100 & -0.0135 & 0.9769189 &  0.065 &  0.011250 & 0.808017 & -2.37 & 2.24 & 4.61 & -0.20725618 & -0.3375794 & 0.09769189\\\\\n",
       "\tv7 & 7 & 100 &  0.1181 & 0.9389923 &  0.125 &  0.116375 & 1.015581 & -1.91 & 2.14 & 4.05 &  0.03791245 & -0.6766951 & 0.09389923\\\\\n",
       "\tv8 & 8 & 100 & -0.0282 & 1.0353006 &  0.000 & -0.026125 & 0.926625 & -2.58 & 2.56 & 5.14 & -0.05226551 & -0.3196236 & 0.10353006\\\\\n",
       "\tv9 & 9 & 100 &  0.1657 & 0.9594582 &  0.265 &  0.181125 & 0.934038 & -2.54 & 2.47 & 5.01 & -0.19595994 & -0.1689990 & 0.09594582\\\\\n",
       "\\end{tabular}\n"
      ],
      "text/markdown": [
       "\n",
       "A psych: 9 × 13\n",
       "\n",
       "| <!--/--> | vars &lt;int&gt; | n &lt;dbl&gt; | mean &lt;dbl&gt; | sd &lt;dbl&gt; | median &lt;dbl&gt; | trimmed &lt;dbl&gt; | mad &lt;dbl&gt; | min &lt;dbl&gt; | max &lt;dbl&gt; | range &lt;dbl&gt; | skew &lt;dbl&gt; | kurtosis &lt;dbl&gt; | se &lt;dbl&gt; |\n",
       "|---|---|---|---|---|---|---|---|---|---|---|---|---|---|\n",
       "| v1 | 1 | 100 |  0.0036 | 0.9515416 |  0.025 | -0.002250 | 0.956277 | -2.33 | 2.44 | 4.77 |  0.03563877 | -0.4140241 | 0.09515416 |\n",
       "| v2 | 2 | 100 | -0.1402 | 0.9681597 | -0.110 | -0.115000 | 0.896973 | -2.59 | 2.07 | 4.66 | -0.21388345 | -0.2137232 | 0.09681597 |\n",
       "| v3 | 3 | 100 |  0.0424 | 0.9120153 |  0.090 |  0.084125 | 0.904386 | -3.11 | 2.10 | 5.21 | -0.45970256 |  0.7226742 | 0.09120153 |\n",
       "| v4 | 4 | 100 | -0.1316 | 0.9340265 | -0.055 | -0.113750 | 0.926625 | -2.93 | 2.57 | 5.50 | -0.15086419 |  0.2136506 | 0.09340265 |\n",
       "| v5 | 5 | 100 | -0.1780 | 0.8548070 | -0.290 | -0.199125 | 0.830256 | -2.04 | 1.75 | 3.79 |  0.25400184 | -0.3133523 | 0.08548070 |\n",
       "| v6 | 6 | 100 | -0.0135 | 0.9769189 |  0.065 |  0.011250 | 0.808017 | -2.37 | 2.24 | 4.61 | -0.20725618 | -0.3375794 | 0.09769189 |\n",
       "| v7 | 7 | 100 |  0.1181 | 0.9389923 |  0.125 |  0.116375 | 1.015581 | -1.91 | 2.14 | 4.05 |  0.03791245 | -0.6766951 | 0.09389923 |\n",
       "| v8 | 8 | 100 | -0.0282 | 1.0353006 |  0.000 | -0.026125 | 0.926625 | -2.58 | 2.56 | 5.14 | -0.05226551 | -0.3196236 | 0.10353006 |\n",
       "| v9 | 9 | 100 |  0.1657 | 0.9594582 |  0.265 |  0.181125 | 0.934038 | -2.54 | 2.47 | 5.01 | -0.19595994 | -0.1689990 | 0.09594582 |\n",
       "\n"
      ],
      "text/plain": [
       "   vars n   mean    sd        median trimmed   mad      min   max  range\n",
       "v1 1    100  0.0036 0.9515416  0.025 -0.002250 0.956277 -2.33 2.44 4.77 \n",
       "v2 2    100 -0.1402 0.9681597 -0.110 -0.115000 0.896973 -2.59 2.07 4.66 \n",
       "v3 3    100  0.0424 0.9120153  0.090  0.084125 0.904386 -3.11 2.10 5.21 \n",
       "v4 4    100 -0.1316 0.9340265 -0.055 -0.113750 0.926625 -2.93 2.57 5.50 \n",
       "v5 5    100 -0.1780 0.8548070 -0.290 -0.199125 0.830256 -2.04 1.75 3.79 \n",
       "v6 6    100 -0.0135 0.9769189  0.065  0.011250 0.808017 -2.37 2.24 4.61 \n",
       "v7 7    100  0.1181 0.9389923  0.125  0.116375 1.015581 -1.91 2.14 4.05 \n",
       "v8 8    100 -0.0282 1.0353006  0.000 -0.026125 0.926625 -2.58 2.56 5.14 \n",
       "v9 9    100  0.1657 0.9594582  0.265  0.181125 0.934038 -2.54 2.47 5.01 \n",
       "   skew        kurtosis   se        \n",
       "v1  0.03563877 -0.4140241 0.09515416\n",
       "v2 -0.21388345 -0.2137232 0.09681597\n",
       "v3 -0.45970256  0.7226742 0.09120153\n",
       "v4 -0.15086419  0.2136506 0.09340265\n",
       "v5  0.25400184 -0.3133523 0.08548070\n",
       "v6 -0.20725618 -0.3375794 0.09769189\n",
       "v7  0.03791245 -0.6766951 0.09389923\n",
       "v8 -0.05226551 -0.3196236 0.10353006\n",
       "v9 -0.19595994 -0.1689990 0.09594582"
      ]
     },
     "metadata": {},
     "output_type": "display_data"
    }
   ],
   "source": [
    "describe(pdat1)"
   ]
  },
  {
   "cell_type": "markdown",
   "id": "ce2bf7ee-a469-4827-bf05-ffe3df524a2e",
   "metadata": {},
   "source": [
    "- Data appear to already be in standardized form."
   ]
  },
  {
   "cell_type": "code",
   "execution_count": 71,
   "id": "95b88f87-63ca-43fb-8333-d434272e0873",
   "metadata": {
    "scrolled": true,
    "vscode": {
     "languageId": "r"
    }
   },
   "outputs": [
    {
     "data": {
      "image/png": "[encoded data removed]",
      "text/plain": [
       "plot without title"
      ]
     },
     "metadata": {
      "image/png": {
       "height": 420,
       "width": 420
      }
     },
     "output_type": "display_data"
    }
   ],
   "source": [
    "pairs.panels(pdat1)"
   ]
  },
  {
   "cell_type": "markdown",
   "id": "cfbde7d3-088f-4beb-a7ee-385a2bcba1c0",
   "metadata": {},
   "source": [
    "-  The `pairs.panels()` function in R generates a matrix of scatterplots for every pair of variables in the data frame pdat1. This visualizes the relationships between all the variables, allowing for the identification of patterns, correlations, and potential outliers in the data."
   ]
  },
  {
   "cell_type": "code",
   "execution_count": 72,
   "id": "19d390e8-d80b-4f40-abe7-7036653a397a",
   "metadata": {
    "scrolled": true,
    "vscode": {
     "languageId": "r"
    }
   },
   "outputs": [
    {
     "data": {
      "image/png": "[encoded data removed]",
      "text/plain": [
       "Plot with title \"\""
      ]
     },
     "metadata": {
      "image/png": {
       "height": 420,
       "width": 420
      }
     },
     "output_type": "display_data"
    }
   ],
   "source": [
    "corrplot(cor(pdat1), order = \"original\", tl.col='black', tl.cex=.75) "
   ]
  },
  {
   "cell_type": "markdown",
   "id": "e9debd68-b4bc-4d50-875c-7eff83cff685",
   "metadata": {},
   "source": [
    "- We see three “groups” of variables that are High positively correlated.  Many of these correlations are close to zero, represented by the light gray circles.\n",
    "- - Now we store the correlation matrix of the data into an object."
   ]
  },
  {
   "cell_type": "code",
   "execution_count": 73,
   "id": "05cf82ac-43e8-4960-910a-74cb10dc159e",
   "metadata": {
    "scrolled": true,
    "vscode": {
     "languageId": "r"
    }
   },
   "outputs": [
    {
     "data": {
      "text/html": [
       "<table class=\"dataframe\">\n",
       "<caption>A matrix: 9 × 9 of type dbl</caption>\n",
       "<thead>\n",
       "\t<tr><th></th><th scope=col>v1</th><th scope=col>v2</th><th scope=col>v3</th><th scope=col>v4</th><th scope=col>v5</th><th scope=col>v6</th><th scope=col>v7</th><th scope=col>v8</th><th scope=col>v9</th></tr>\n",
       "</thead>\n",
       "<tbody>\n",
       "\t<tr><th scope=row>v1</th><td> 1.00000000</td><td> 0.65976178</td><td> 0.707293038</td><td>0.1384304</td><td>0.21243923</td><td> 0.04765664</td><td>-0.02354195</td><td> 0.068595180</td><td> 0.02845927</td></tr>\n",
       "\t<tr><th scope=row>v2</th><td> 0.65976178</td><td> 1.00000000</td><td> 0.611290349</td><td>0.1317872</td><td>0.16188108</td><td> 0.16125106</td><td> 0.02976057</td><td>-0.034583485</td><td> 0.02415579</td></tr>\n",
       "\t<tr><th scope=row>v3</th><td> 0.70729304</td><td> 0.61129035</td><td> 1.000000000</td><td>0.1373615</td><td>0.12634369</td><td> 0.10552785</td><td>-0.11698288</td><td> 0.002804632</td><td>-0.02947128</td></tr>\n",
       "\t<tr><th scope=row>v4</th><td> 0.13843038</td><td> 0.13178718</td><td> 0.137361546</td><td>1.0000000</td><td>0.48822168</td><td> 0.51674523</td><td> 0.18083704</td><td> 0.139804599</td><td> 0.10261085</td></tr>\n",
       "\t<tr><th scope=row>v5</th><td> 0.21243923</td><td> 0.16188108</td><td> 0.126343694</td><td>0.4882217</td><td>1.00000000</td><td> 0.37730021</td><td> 0.24081229</td><td> 0.089663855</td><td> 0.15878760</td></tr>\n",
       "\t<tr><th scope=row>v6</th><td> 0.04765664</td><td> 0.16125106</td><td> 0.105527848</td><td>0.5167452</td><td>0.37730021</td><td> 1.00000000</td><td> 0.03741838</td><td> 0.153838758</td><td>-0.02887585</td></tr>\n",
       "\t<tr><th scope=row>v7</th><td>-0.02354195</td><td> 0.02976057</td><td>-0.116982880</td><td>0.1808370</td><td>0.24081229</td><td> 0.03741838</td><td> 1.00000000</td><td> 0.401410299</td><td> 0.29346736</td></tr>\n",
       "\t<tr><th scope=row>v8</th><td> 0.06859518</td><td>-0.03458348</td><td> 0.002804632</td><td>0.1398046</td><td>0.08966386</td><td> 0.15383876</td><td> 0.40141030</td><td> 1.000000000</td><td> 0.25623468</td></tr>\n",
       "\t<tr><th scope=row>v9</th><td> 0.02845927</td><td> 0.02415579</td><td>-0.029471278</td><td>0.1026108</td><td>0.15878760</td><td>-0.02887585</td><td> 0.29346736</td><td> 0.256234679</td><td> 1.00000000</td></tr>\n",
       "</tbody>\n",
       "</table>\n"
      ],
      "text/latex": [
       "A matrix: 9 × 9 of type dbl\n",
       "\\begin{tabular}{r|lllllllll}\n",
       "  & v1 & v2 & v3 & v4 & v5 & v6 & v7 & v8 & v9\\\\\n",
       "\\hline\n",
       "\tv1 &  1.00000000 &  0.65976178 &  0.707293038 & 0.1384304 & 0.21243923 &  0.04765664 & -0.02354195 &  0.068595180 &  0.02845927\\\\\n",
       "\tv2 &  0.65976178 &  1.00000000 &  0.611290349 & 0.1317872 & 0.16188108 &  0.16125106 &  0.02976057 & -0.034583485 &  0.02415579\\\\\n",
       "\tv3 &  0.70729304 &  0.61129035 &  1.000000000 & 0.1373615 & 0.12634369 &  0.10552785 & -0.11698288 &  0.002804632 & -0.02947128\\\\\n",
       "\tv4 &  0.13843038 &  0.13178718 &  0.137361546 & 1.0000000 & 0.48822168 &  0.51674523 &  0.18083704 &  0.139804599 &  0.10261085\\\\\n",
       "\tv5 &  0.21243923 &  0.16188108 &  0.126343694 & 0.4882217 & 1.00000000 &  0.37730021 &  0.24081229 &  0.089663855 &  0.15878760\\\\\n",
       "\tv6 &  0.04765664 &  0.16125106 &  0.105527848 & 0.5167452 & 0.37730021 &  1.00000000 &  0.03741838 &  0.153838758 & -0.02887585\\\\\n",
       "\tv7 & -0.02354195 &  0.02976057 & -0.116982880 & 0.1808370 & 0.24081229 &  0.03741838 &  1.00000000 &  0.401410299 &  0.29346736\\\\\n",
       "\tv8 &  0.06859518 & -0.03458348 &  0.002804632 & 0.1398046 & 0.08966386 &  0.15383876 &  0.40141030 &  1.000000000 &  0.25623468\\\\\n",
       "\tv9 &  0.02845927 &  0.02415579 & -0.029471278 & 0.1026108 & 0.15878760 & -0.02887585 &  0.29346736 &  0.256234679 &  1.00000000\\\\\n",
       "\\end{tabular}\n"
      ],
      "text/markdown": [
       "\n",
       "A matrix: 9 × 9 of type dbl\n",
       "\n",
       "| <!--/--> | v1 | v2 | v3 | v4 | v5 | v6 | v7 | v8 | v9 |\n",
       "|---|---|---|---|---|---|---|---|---|---|\n",
       "| v1 |  1.00000000 |  0.65976178 |  0.707293038 | 0.1384304 | 0.21243923 |  0.04765664 | -0.02354195 |  0.068595180 |  0.02845927 |\n",
       "| v2 |  0.65976178 |  1.00000000 |  0.611290349 | 0.1317872 | 0.16188108 |  0.16125106 |  0.02976057 | -0.034583485 |  0.02415579 |\n",
       "| v3 |  0.70729304 |  0.61129035 |  1.000000000 | 0.1373615 | 0.12634369 |  0.10552785 | -0.11698288 |  0.002804632 | -0.02947128 |\n",
       "| v4 |  0.13843038 |  0.13178718 |  0.137361546 | 1.0000000 | 0.48822168 |  0.51674523 |  0.18083704 |  0.139804599 |  0.10261085 |\n",
       "| v5 |  0.21243923 |  0.16188108 |  0.126343694 | 0.4882217 | 1.00000000 |  0.37730021 |  0.24081229 |  0.089663855 |  0.15878760 |\n",
       "| v6 |  0.04765664 |  0.16125106 |  0.105527848 | 0.5167452 | 0.37730021 |  1.00000000 |  0.03741838 |  0.153838758 | -0.02887585 |\n",
       "| v7 | -0.02354195 |  0.02976057 | -0.116982880 | 0.1808370 | 0.24081229 |  0.03741838 |  1.00000000 |  0.401410299 |  0.29346736 |\n",
       "| v8 |  0.06859518 | -0.03458348 |  0.002804632 | 0.1398046 | 0.08966386 |  0.15383876 |  0.40141030 |  1.000000000 |  0.25623468 |\n",
       "| v9 |  0.02845927 |  0.02415579 | -0.029471278 | 0.1026108 | 0.15878760 | -0.02887585 |  0.29346736 |  0.256234679 |  1.00000000 |\n",
       "\n"
      ],
      "text/plain": [
       "   v1          v2          v3           v4        v5         v6         \n",
       "v1  1.00000000  0.65976178  0.707293038 0.1384304 0.21243923  0.04765664\n",
       "v2  0.65976178  1.00000000  0.611290349 0.1317872 0.16188108  0.16125106\n",
       "v3  0.70729304  0.61129035  1.000000000 0.1373615 0.12634369  0.10552785\n",
       "v4  0.13843038  0.13178718  0.137361546 1.0000000 0.48822168  0.51674523\n",
       "v5  0.21243923  0.16188108  0.126343694 0.4882217 1.00000000  0.37730021\n",
       "v6  0.04765664  0.16125106  0.105527848 0.5167452 0.37730021  1.00000000\n",
       "v7 -0.02354195  0.02976057 -0.116982880 0.1808370 0.24081229  0.03741838\n",
       "v8  0.06859518 -0.03458348  0.002804632 0.1398046 0.08966386  0.15383876\n",
       "v9  0.02845927  0.02415579 -0.029471278 0.1026108 0.15878760 -0.02887585\n",
       "   v7          v8           v9         \n",
       "v1 -0.02354195  0.068595180  0.02845927\n",
       "v2  0.02976057 -0.034583485  0.02415579\n",
       "v3 -0.11698288  0.002804632 -0.02947128\n",
       "v4  0.18083704  0.139804599  0.10261085\n",
       "v5  0.24081229  0.089663855  0.15878760\n",
       "v6  0.03741838  0.153838758 -0.02887585\n",
       "v7  1.00000000  0.401410299  0.29346736\n",
       "v8  0.40141030  1.000000000  0.25623468\n",
       "v9  0.29346736  0.256234679  1.00000000"
      ]
     },
     "metadata": {},
     "output_type": "display_data"
    }
   ],
   "source": [
    "corpdat1 <- cor(pdat1, use=\"pairwise.complete.obs\")\n",
    "corpdat1"
   ]
  },
  {
   "cell_type": "markdown",
   "id": "c13b6013-ea61-415e-a204-354d4bb96302",
   "metadata": {},
   "source": [
    "- We are using `fa.parallel()` in the psych package. We can inform our choice of number of factors."
   ]
  },
  {
   "cell_type": "code",
   "execution_count": 74,
   "id": "87cf3386-0dea-4ebf-ad71-5feebb841de4",
   "metadata": {
    "vscode": {
     "languageId": "r"
    }
   },
   "outputs": [
    {
     "name": "stdout",
     "output_type": "stream",
     "text": [
      "Parallel analysis suggests that the number of factors =  3  and the number of components =  NA \n"
     ]
    },
    {
     "data": {
      "image/png": "[encoded data removed]",
      "text/plain": [
       "Plot with title \"Parallel Analysis Scree Plots\""
      ]
     },
     "metadata": {
      "image/png": {
       "height": 420,
       "width": 420
      }
     },
     "output_type": "display_data"
    }
   ],
   "source": [
    "fa.parallel(x=corpdat1, fm=\"minres\", fa=\"fa\")"
   ]
  },
  {
   "cell_type": "code",
   "execution_count": 75,
   "id": "5118b6b5-9d15-4c56-987f-09676bf5dd68",
   "metadata": {
    "vscode": {
     "languageId": "r"
    }
   },
   "outputs": [
    {
     "data": {
      "text/plain": [
       "  noc naf nparallel nkaiser\n",
       "1   3   3         3       3"
      ]
     },
     "metadata": {},
     "output_type": "display_data"
    }
   ],
   "source": [
    "nScree(x=corpdat1,model=\"factors\")"
   ]
  },
  {
   "cell_type": "markdown",
   "id": "5165c9cc-89e9-45fb-a9fb-be628c5bab1e",
   "metadata": {},
   "source": [
    "#### Let's first discuss what are noc, naf,nparallel and nkaiser here;\n",
    "- Optimal Coordinates (noc): This method tries to find the number of factors that best represents the relationships between the variables in the data.\n",
    "-  Acceleration Factor (naf): It looks for a sudden drop or \"elbow\" in the pattern of eigenvalues, which suggests the number of important factors to keep.\n",
    "-  Parallel Analysis (nparallel): It compares the eigenvalues from the actual data to those from random data. The number of factors to retain is determined by where the actual data's eigenvalues start to be larger than the random data's eigenvalues.\n",
    "-  Kaiser Rule (nkaiser): This simple rule says to keep all factors that have an eigenvalue greater than 1, as eigenvalues less than 1 don't explain much of the variability in the data.\n",
    "\n",
    "\n",
    "The output here is number of components/factors according to optimal coordinates (noc), acceleration factor (naf), parallel analysis (nparallel), and Kaiser rule (nkaiser).\n",
    "\n",
    "- Lets plot this scree results."
   ]
  },
  {
   "cell_type": "code",
   "execution_count": 76,
   "id": "086ce3bc-cd49-46d8-8794-e88f0f084e26",
   "metadata": {
    "vscode": {
     "languageId": "r"
    }
   },
   "outputs": [
    {
     "data": {
      "image/png": "[encoded data removed]",
      "text/plain": [
       "Plot with title \"Non Graphical Solutions to Scree Test\""
      ]
     },
     "metadata": {
      "image/png": {
       "height": 420,
       "width": 420
      }
     },
     "output_type": "display_data"
    }
   ],
   "source": [
    "plot(nScree(x=corpdat1,model=\"factors\"))"
   ]
  },
  {
   "cell_type": "markdown",
   "id": "cb16c8d9-42ec-4b45-a2fb-ed572b493560",
   "metadata": {},
   "source": [
    "- Here if we observe the graph all the techniques everything points to choice of 3 factors.\n",
    "  So, these 3 factors will give us the most \n",
    "information about our data\n",
    "\n",
    "- Now lets run the factor analysis with number of factors as 3. This time we use the `fa()` in the `psych` package, with oblique oblimin rotation `(rotate=“oblimin”)` and principal factor extraction `(fm=“pa”)`.\n"
   ]
  },
  {
   "cell_type": "code",
   "execution_count": 77,
   "id": "17421918-e6d8-4ad1-acce-cb034390a9d5",
   "metadata": {
    "scrolled": true,
    "vscode": {
     "languageId": "r"
    }
   },
   "outputs": [
    {
     "data": {
      "text/plain": [
       "Factor Analysis using method =  pa\n",
       "Call: fa(r = corpdat1, nfactors = 3, rotate = \"oblimin\", fm = \"pa\")\n",
       "Standardized loadings (pattern matrix) based upon correlation matrix\n",
       "     PA1   PA2   PA3   h2   u2 com\n",
       "v1  0.90 -0.04  0.06 0.79 0.21 1.0\n",
       "v2  0.74  0.05  0.00 0.56 0.44 1.0\n",
       "v3  0.80  0.02 -0.10 0.66 0.34 1.0\n",
       "v4  0.00  0.78  0.04 0.62 0.38 1.0\n",
       "v5  0.09  0.54  0.15 0.38 0.62 1.2\n",
       "v6 -0.03  0.70 -0.10 0.46 0.54 1.0\n",
       "v7 -0.03  0.01  0.73 0.54 0.46 1.0\n",
       "v8  0.02  0.04  0.51 0.27 0.73 1.0\n",
       "v9  0.03 -0.03  0.45 0.20 0.80 1.0\n",
       "\n",
       "                       PA1  PA2  PA3\n",
       "SS loadings           2.01 1.41 1.07\n",
       "Proportion Var        0.22 0.16 0.12\n",
       "Cumulative Var        0.22 0.38 0.50\n",
       "Proportion Explained  0.45 0.31 0.24\n",
       "Cumulative Proportion 0.45 0.76 1.00\n",
       "\n",
       " With factor correlations of \n",
       "      PA1  PA2   PA3\n",
       "PA1  1.00 0.21 -0.02\n",
       "PA2  0.21 1.00  0.26\n",
       "PA3 -0.02 0.26  1.00\n",
       "\n",
       "Mean item complexity =  1\n",
       "Test of the hypothesis that 3 factors are sufficient.\n",
       "\n",
       "df null model =  36  with the objective function =  2.55\n",
       "df of  the model are 12  and the objective function was  0.15 \n",
       "\n",
       "The root mean square of the residuals (RMSR) is  0.03 \n",
       "The df corrected root mean square of the residuals is  0.06 \n",
       "\n",
       "Fit based upon off diagonal values = 0.99\n",
       "Measures of factor score adequacy             \n",
       "                                                   PA1  PA2  PA3\n",
       "Correlation of (regression) scores with factors   0.94 0.87 0.81\n",
       "Multiple R square of scores with factors          0.88 0.76 0.66\n",
       "Minimum correlation of possible factor scores     0.75 0.51 0.32"
      ]
     },
     "metadata": {},
     "output_type": "display_data"
    }
   ],
   "source": [
    "EFApdat1_3factor <- fa(r = corpdat1, nfactors = 3, \n",
    "                       rotate = \"oblimin\", \n",
    "                       fm = \"pa\")\n",
    "EFApdat1_3factor"
   ]
  },
  {
   "cell_type": "markdown",
   "id": "1cd56efb-4fa2-4a6c-851b-27fc485712bc",
   "metadata": {},
   "source": [
    "- To obtain factor scores for data reduction purposes, We need to input the raw data matrix instead of the correlation matrix. Additionally, we can specify the 'scores' argument to get factor scores using a factor score regression method. (The below code is just doing that)\n",
    "- To get estimated factor scores, we must provide the raw data as input. Inputting just the correlation matrix will not give us the factor score estimates, but only the factor weights or loadings.\n",
    "- The 'scores' argument allows us to choose the method for estimating the factor scores from the raw data. One common method is the regression method, where factor scores are estimated as linear combinations of the observed variables, weighted by the regression coefficients."
   ]
  },
  {
   "cell_type": "code",
   "execution_count": 78,
   "id": "b6c4446d-39f3-4451-aacf-3af6b7104704",
   "metadata": {
    "vscode": {
     "languageId": "r"
    }
   },
   "outputs": [
    {
     "data": {
      "text/html": [
       "<table class=\"dataframe\">\n",
       "<caption>A matrix: 10 × 3 of type dbl</caption>\n",
       "<thead>\n",
       "\t<tr><th></th><th scope=col>PA1</th><th scope=col>PA2</th><th scope=col>PA3</th></tr>\n",
       "</thead>\n",
       "<tbody>\n",
       "\t<tr><th scope=row>1</th><td>-0.783420678</td><td>-1.1506737</td><td> 0.5983783</td></tr>\n",
       "\t<tr><th scope=row>2</th><td>-0.262502699</td><td> 2.1004885</td><td> 1.8211517</td></tr>\n",
       "\t<tr><th scope=row>3</th><td> 0.433115912</td><td>-1.7226209</td><td> 0.3998862</td></tr>\n",
       "\t<tr><th scope=row>4</th><td>-1.419724776</td><td>-2.6307726</td><td>-0.3797518</td></tr>\n",
       "\t<tr><th scope=row>5</th><td> 1.476386714</td><td>-0.1114002</td><td>-0.6023405</td></tr>\n",
       "\t<tr><th scope=row>6</th><td> 0.007833174</td><td> 1.3577895</td><td> 0.5681540</td></tr>\n",
       "\t<tr><th scope=row>7</th><td>-0.614527322</td><td>-0.8404476</td><td>-0.5418789</td></tr>\n",
       "\t<tr><th scope=row>8</th><td>-1.578440465</td><td>-0.3701222</td><td>-1.1402610</td></tr>\n",
       "\t<tr><th scope=row>9</th><td> 0.122523810</td><td> 0.5020814</td><td> 0.1907809</td></tr>\n",
       "\t<tr><th scope=row>10</th><td> 1.232518910</td><td> 0.5499773</td><td>-0.7593508</td></tr>\n",
       "</tbody>\n",
       "</table>\n"
      ],
      "text/latex": [
       "A matrix: 10 × 3 of type dbl\n",
       "\\begin{tabular}{r|lll}\n",
       "  & PA1 & PA2 & PA3\\\\\n",
       "\\hline\n",
       "\t1 & -0.783420678 & -1.1506737 &  0.5983783\\\\\n",
       "\t2 & -0.262502699 &  2.1004885 &  1.8211517\\\\\n",
       "\t3 &  0.433115912 & -1.7226209 &  0.3998862\\\\\n",
       "\t4 & -1.419724776 & -2.6307726 & -0.3797518\\\\\n",
       "\t5 &  1.476386714 & -0.1114002 & -0.6023405\\\\\n",
       "\t6 &  0.007833174 &  1.3577895 &  0.5681540\\\\\n",
       "\t7 & -0.614527322 & -0.8404476 & -0.5418789\\\\\n",
       "\t8 & -1.578440465 & -0.3701222 & -1.1402610\\\\\n",
       "\t9 &  0.122523810 &  0.5020814 &  0.1907809\\\\\n",
       "\t10 &  1.232518910 &  0.5499773 & -0.7593508\\\\\n",
       "\\end{tabular}\n"
      ],
      "text/markdown": [
       "\n",
       "A matrix: 10 × 3 of type dbl\n",
       "\n",
       "| <!--/--> | PA1 | PA2 | PA3 |\n",
       "|---|---|---|---|\n",
       "| 1 | -0.783420678 | -1.1506737 |  0.5983783 |\n",
       "| 2 | -0.262502699 |  2.1004885 |  1.8211517 |\n",
       "| 3 |  0.433115912 | -1.7226209 |  0.3998862 |\n",
       "| 4 | -1.419724776 | -2.6307726 | -0.3797518 |\n",
       "| 5 |  1.476386714 | -0.1114002 | -0.6023405 |\n",
       "| 6 |  0.007833174 |  1.3577895 |  0.5681540 |\n",
       "| 7 | -0.614527322 | -0.8404476 | -0.5418789 |\n",
       "| 8 | -1.578440465 | -0.3701222 | -1.1402610 |\n",
       "| 9 |  0.122523810 |  0.5020814 |  0.1907809 |\n",
       "| 10 |  1.232518910 |  0.5499773 | -0.7593508 |\n",
       "\n"
      ],
      "text/plain": [
       "   PA1          PA2        PA3       \n",
       "1  -0.783420678 -1.1506737  0.5983783\n",
       "2  -0.262502699  2.1004885  1.8211517\n",
       "3   0.433115912 -1.7226209  0.3998862\n",
       "4  -1.419724776 -2.6307726 -0.3797518\n",
       "5   1.476386714 -0.1114002 -0.6023405\n",
       "6   0.007833174  1.3577895  0.5681540\n",
       "7  -0.614527322 -0.8404476 -0.5418789\n",
       "8  -1.578440465 -0.3701222 -1.1402610\n",
       "9   0.122523810  0.5020814  0.1907809\n",
       "10  1.232518910  0.5499773 -0.7593508"
      ]
     },
     "metadata": {},
     "output_type": "display_data"
    }
   ],
   "source": [
    "EFApdat1_3factor <- fa(r = pdat1, nfactors = 3, \n",
    "                       rotate = \"oblimin\", \n",
    "                       fm = \"pa\",\n",
    "                       scores=\"regression\")\n",
    "head(EFApdat1_3factor$scores,10)"
   ]
  },
  {
   "cell_type": "markdown",
   "id": "418495b6-2740-4b86-94cf-1be631ce9d5f",
   "metadata": {},
   "source": [
    "- Here `rotate = \"oblimin\"` specifies that the factor solution should be rotated using the oblimin rotation method, which allows for correlated factors.\n",
    "- `fm = \"pa\"` stands for \"factor method = parallel analysis\". This means that the number of factors to be retained (3 in this case) was determined using the parallel analysis method."
   ]
  },
  {
   "cell_type": "code",
   "execution_count": 79,
   "id": "1a317a5f-36bb-49ac-ba74-9fc2d8a4476b",
   "metadata": {
    "scrolled": true,
    "vscode": {
     "languageId": "r"
    }
   },
   "outputs": [
    {
     "data": {
      "image/png": "[encoded data removed]",
      "text/plain": [
       "plot without title"
      ]
     },
     "metadata": {
      "image/png": {
       "height": 420,
       "width": 420
      }
     },
     "output_type": "display_data"
    }
   ],
   "source": [
    "pairs.panels(EFApdat1_3factor$scores)"
   ]
  },
  {
   "cell_type": "markdown",
   "id": "ad36eff9-d953-449f-905a-cdb86818ef9d",
   "metadata": {},
   "source": [
    "This is the reduced data of only three factors that we have obtained with the help of parallel analysis(determine number of factors) and factor analysis to reduce the datasize of 9 factors."
   ]
  },
  {
   "cell_type": "code",
   "execution_count": 80,
   "id": "2241e01b-1b56-4a72-b155-a78763a708cf",
   "metadata": {
    "vscode": {
     "languageId": "r"
    }
   },
   "outputs": [
    {
     "data": {
      "text/html": [
       "0.49918104766589"
      ],
      "text/latex": [
       "0.49918104766589"
      ],
      "text/markdown": [
       "0.49918104766589"
      ],
      "text/plain": [
       "[1] 0.499181"
      ]
     },
     "metadata": {},
     "output_type": "display_data"
    }
   ],
   "source": [
    "EFApdat1_3factor$Vaccounted[3,3]"
   ]
  },
  {
   "cell_type": "markdown",
   "id": "62791b3e-fd37-4a04-a5fc-64dc345fa5f1",
   "metadata": {},
   "source": [
    "- As we can see the variance accounted with this three factors is 50%."
   ]
  },
  {
   "cell_type": "code",
   "execution_count": 81,
   "id": "32574345-3717-4815-9964-2777d9634cab",
   "metadata": {
    "vscode": {
     "languageId": "r"
    }
   },
   "outputs": [
    {
     "name": "stdout",
     "output_type": "stream",
     "text": [
      " int [1:100] 1 2 3 4 5 6 7 8 9 10 ...\n"
     ]
    }
   ],
   "source": [
    "day <- 1:100\n",
    "str(day)"
   ]
  },
  {
   "cell_type": "markdown",
   "id": "b38bfaad-c8a6-4729-bd19-bcdad18a0985",
   "metadata": {},
   "source": [
    "- We create a sequence of numbers. This will be useful while plotting the before and after factor analysis."
   ]
  },
  {
   "cell_type": "code",
   "execution_count": 82,
   "id": "78761c32-603c-4034-8b33-04a0b5cec152",
   "metadata": {
    "scrolled": true,
    "vscode": {
     "languageId": "r"
    }
   },
   "outputs": [
    {
     "data": {
      "image/png": "[encoded data removed]",
      "text/plain": [
       "plot without title"
      ]
     },
     "metadata": {
      "image/png": {
       "height": 420,
       "width": 420
      }
     },
     "output_type": "display_data"
    }
   ],
   "source": [
    "pdat1_plot <- cbind(day,pdat1,EFApdat1_3factor$scores)\n",
    "#Plotting observed scores\n",
    "ggplot(data=pdat1_plot, aes(x=day)) +\n",
    "  geom_line(aes(y=v1), color= 1) + \n",
    "  geom_line(aes(y=v2), color= 2) + \n",
    "  geom_line(aes(y=v3), color= 3) + \n",
    "  geom_line(aes(y=v4), color= 4) + \n",
    "  geom_line(aes(y=v5), color= 5) + \n",
    "  geom_line(aes(y=v6), color= 6) + \n",
    "  geom_line(aes(y=v7), color= 7) + \n",
    "  geom_line(aes(y=v8), color= 8) + \n",
    "  geom_line(aes(y=v9), color= 9) +\n",
    "  xlab(\"Day\") + ylab(\"Observed Score\") + \n",
    "  scale_x_continuous(limits=c(0,100)) +\n",
    "  scale_y_continuous(limits=c(-3,3)) + ggtitle('Before Factor Analysis')"
   ]
  },
  {
   "cell_type": "markdown",
   "id": "f6dc9c11-9257-45ed-a2e9-644effe8ecac",
   "metadata": {},
   "source": [
    "### We transformed a Nine dimensional data into...."
   ]
  },
  {
   "cell_type": "code",
   "execution_count": 83,
   "id": "027cb437-63c4-4a6f-9269-02d83204fdd2",
   "metadata": {
    "vscode": {
     "languageId": "r"
    }
   },
   "outputs": [
    {
     "data": {
      "image/png": "[encoded data removed]",
      "text/plain": [
       "plot without title"
      ]
     },
     "metadata": {
      "image/png": {
       "height": 420,
       "width": 420
      }
     },
     "output_type": "display_data"
    }
   ],
   "source": [
    "#Plotting factor scores\n",
    "ggplot(data=pdat1_plot, aes(x=day)) +\n",
    "  geom_line(aes(y=PA1), color= 1) + \n",
    "  geom_line(aes(y=PA2), color= 2) + \n",
    "  geom_line(aes(y=PA3), color= 3) + \n",
    "  xlab(\"Day\") + ylab(\"Factor Score\") + \n",
    "  scale_x_continuous(limits=c(0,100)) +\n",
    "  scale_y_continuous(limits=c(-3,3)) +ggtitle('After Factor Analysis')"
   ]
  },
  {
   "cell_type": "markdown",
   "id": "cc2a8352-d255-4827-bbc5-1ce878707b71",
   "metadata": {},
   "source": [
    "### ..just three dimensional data by using parallel analysis to find the number of factors it can be reduced to and then used factor anaysis to apply the reduction by setting aside 50% of the variance to the dataset."
   ]
  },
  {
   "cell_type": "markdown",
   "id": "bd916d43-5574-4589-8cc1-7213e8456e5f",
   "metadata": {},
   "source": [
    "# Conclusion"
   ]
  },
  {
   "cell_type": "markdown",
   "id": "9fa63706-d598-49db-9859-1bb40090bb46",
   "metadata": {},
   "source": [
    "I conclude this project by writing down key findings and final points.\n",
    "\n",
    "- In this Project we have discussed about the data that we have used in real data analysis. Then, we discussed different statistical techniques and terms to inform more about our simulated data and real data.\n",
    "\n",
    "- I have covered Simulation of Different Distributions Continuous and Discrete. We verified Central Limit Theorem for Normal Distribution, Exponential Distribution, Poisson Distribution and Binomial Distribution. The Statistical measures like mean, median, mode, standard deviation, quantiles were given for the simulated data using code.\n",
    "\n",
    "- Additionally, Markov Chains and it's different properties were discussed like Ergodicity. Recurrent Events, Variance Reduction Techniques like Simulation, Antithetic Variates, Control Variates Importance sampling were visualized. Simulation of Combinatorial Analysis was also performed.\n",
    "\n",
    "- Bayes's theorem was used to find out some questions on real world data. We found out answers for our research questions of **whether Taxi drivers get tipped more on a weekend.** with this specific dataset we found out that there is **less than half likelihood of passengers in Chicago tipping more on a weekend i.e 46%**\n",
    "\n",
    "- In Factor Analysis we first used Parallel analysis to findout possible number of Factors the data can be reduced to and the we use `fa()` i.e factor analysis to  **sucessfully reduce dimension of a Nine feature dataset to just three features** by setting aside 50% of the variance."
   ]
  },
  {
   "cell_type": "markdown",
   "id": "649f0676-0c4d-4ae3-bc51-c0d167648104",
   "metadata": {},
   "source": [
    "# References"
   ]
  },
  {
   "cell_type": "markdown",
   "id": "5576a482-ba69-498f-86f5-537f2b24494e",
   "metadata": {
    "editable": true,
    "slideshow": {
     "slide_type": ""
    },
    "tags": []
   },
   "source": [
    "- https://openpsychometrics.org/_rawdata/  - - Big Five Personality Dataset\n",
    "- https://dasl.datadescription.com/datafile/chicago_taxi/ -- Chicago Taxi Dataset\n",
    "- https://infoguides.gmu.edu/find-data/practice -- Website from where I found this dataset websites\n",
    "- \n",
    "https://quantdev.ssri.psu.edu/sites/qdev/files/ptechdata.csv -- Factor Analysis Data"
   ]
  }
 ],
 "metadata": {
  "kernelspec": {
   "display_name": "R",
   "language": "R",
   "name": "ir"
  },
  "language_info": {
   "codemirror_mode": "r",
   "file_extension": ".r",
   "mimetype": "text/x-r-source",
   "name": "R",
   "pygments_lexer": "r",
   "version": "4.3.2"
  }
 },
 "nbformat": 4,
 "nbformat_minor": 5
}
